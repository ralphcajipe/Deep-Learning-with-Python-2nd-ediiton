{
 "cells": [
  {
   "cell_type": "markdown",
   "metadata": {},
   "source": [
    "# Classifying newswires: A multiclass classification example\n",
    "Problem: To classify Reuters newswires into 46 mutually exclusive topics.\n",
    "A single-label multiclass classification."
   ]
  },
  {
   "cell_type": "markdown",
   "metadata": {},
   "source": [
    "### The Reuters dataset\n",
    "- Set of short newswires (electronic news) and their topics, published by Reuters in 1986.\n",
    "- Widely used toy dataset for text classification.\n",
    "- 46 different topics, each topic has at least 10 examples in the training set."
   ]
  },
  {
   "cell_type": "markdown",
   "metadata": {},
   "source": [
    "**Loading the Reuters dataset**"
   ]
  },
  {
   "cell_type": "code",
   "execution_count": 1,
   "metadata": {},
   "outputs": [
    {
     "name": "stderr",
     "output_type": "stream",
     "text": [
      "2022-07-24 15:34:12.026860: W tensorflow/stream_executor/platform/default/dso_loader.cc:64] Could not load dynamic library 'libcudart.so.11.0'; dlerror: libcudart.so.11.0: cannot open shared object file: No such file or directory\n",
      "2022-07-24 15:34:12.026909: I tensorflow/stream_executor/cuda/cudart_stub.cc:29] Ignore above cudart dlerror if you do not have a GPU set up on your machine.\n"
     ]
    }
   ],
   "source": [
    "from tensorflow.keras.datasets import reuters\n",
    "(train_data, train_labels), (test_data, test_labels) = reuters.load_data(\n",
    "    num_words=10000)\n",
    "# Argument `num_words` Restricts the data to the 10,000 most frequently occuring words found in the data"
   ]
  },
  {
   "cell_type": "markdown",
   "metadata": {},
   "source": [
    "You have\n",
    "8,982 training examples and\n",
    "2,246 test examples."
   ]
  },
  {
   "cell_type": "code",
   "execution_count": 2,
   "metadata": {},
   "outputs": [
    {
     "name": "stdout",
     "output_type": "stream",
     "text": [
      "8982\n"
     ]
    }
   ],
   "source": [
    "# Printing the length of the train_data\n",
    "print(len(train_data))"
   ]
  },
  {
   "cell_type": "code",
   "execution_count": 3,
   "metadata": {},
   "outputs": [
    {
     "name": "stdout",
     "output_type": "stream",
     "text": [
      "2246\n"
     ]
    }
   ],
   "source": [
    "# Printing the length of the test_data\n",
    "print(len(test_data))"
   ]
  },
  {
   "cell_type": "markdown",
   "metadata": {},
   "source": [
    "Just like with IMDB reviews dataset, each example is encoded as a list of integers (word indices):"
   ]
  },
  {
   "cell_type": "code",
   "execution_count": 4,
   "metadata": {},
   "outputs": [
    {
     "name": "stdout",
     "output_type": "stream",
     "text": [
      "[1, 245, 273, 207, 156, 53, 74, 160, 26, 14, 46, 296, 26, 39, 74, 2979, 3554, 14, 46, 4689, 4329, 86, 61, 3499, 4795, 14, 61, 451, 4329, 17, 12]"
     ]
    }
   ],
   "source": [
    "# train_data example at index 10\n",
    "print(train_data[10], end=\"\")"
   ]
  },
  {
   "cell_type": "markdown",
   "metadata": {},
   "source": [
    "**Decoding the newswires back to text** <br>\n",
    "To decode it back to words, in case curious."
   ]
  },
  {
   "cell_type": "code",
   "execution_count": 5,
   "metadata": {},
   "outputs": [],
   "source": [
    "# Creating a dictionary of words and their index.\n",
    "word_index = reuters.get_word_index()\n",
    "\n",
    "# Reversing the key and value of the dictionary.\n",
    "reverse_word_index = dict(\n",
    "    [(value, key) for (key, value) in word_index.items()])\n",
    "\n",
    "decoded_newswire = \" \".join(\n",
    "    [reverse_word_index.get(i - 3, \"?\") for i in train_data[0]])\n",
    "# Note that the indices are offset by 3 because 0, 1, and 2 are reserved indices for\n",
    "# \"padding,\" \"start of sequence,\" and \"unknown.\""
   ]
  },
  {
   "cell_type": "code",
   "execution_count": 6,
   "metadata": {},
   "outputs": [
    {
     "name": "stdout",
     "output_type": "stream",
     "text": [
      "? ? ? said as a result of its december acquisition of space co it expects earnings per share in 1987 of 1 15 to 1 30 dlrs per share up from 70 cts in 1986 the company said pretax net should rise to nine to 10 mln dlrs from six mln dlrs in 1986 and rental operation revenues to 19 to 22 mln dlrs from 12 5 mln dlrs it said cash flow per share this year should be 2 50 to three dlrs reuter 3\n"
     ]
    }
   ],
   "source": [
    "# Printing the decoded newswire at index 0   ☝ --> train_data[0]\n",
    "print(decoded_newswire)"
   ]
  },
  {
   "cell_type": "markdown",
   "metadata": {},
   "source": [
    "The label associated with an example is an integer between 0 and 45 - a topic index:"
   ]
  },
  {
   "cell_type": "code",
   "execution_count": 7,
   "metadata": {},
   "outputs": [
    {
     "name": "stdout",
     "output_type": "stream",
     "text": [
      "3\n"
     ]
    }
   ],
   "source": [
    "print(train_labels[10])"
   ]
  },
  {
   "cell_type": "markdown",
   "metadata": {},
   "source": [
    "### Preparing the data\n",
    "<em>Vectorize the data.</em> <br>\n",
    "**Encoding the input data (x)**"
   ]
  },
  {
   "cell_type": "code",
   "execution_count": 9,
   "metadata": {},
   "outputs": [],
   "source": [
    "import numpy as np\n",
    "def vectorize_sequences(sequences, dimension=10000):\n",
    "    \"\"\"Vectorizing the sequence of words.\"\"\"\n",
    "    \n",
    "    # Creates an all-zero matrix of shape (len(sequences), dimension)\n",
    "    results = np.zeros((len(sequences), dimension))\n",
    "    for i, sequence in enumerate(sequences):\n",
    "        for j in sequence:\n",
    "            # Sets specific indices of results[i] to 1s\n",
    "            results[i, j] = 1\n",
    "    return results\n",
    "    \n",
    "# Vectorized training data\n",
    "x_train = vectorize_sequences(train_data)\n",
    "\n",
    "# Vectorized test data\n",
    "x_test = vectorize_sequences(test_data)"
   ]
  },
  {
   "cell_type": "markdown",
   "metadata": {},
   "source": [
    "**Encoding the labels (y)**\n",
    "- To vectorize labels, there are two possibilities: cast the label list as an integer tensor or use <em>one-hot encoding</em>.\n",
    "- One-hot encoding is a widely used format for categorical data, also called <em>categorical encoding</em>.\n",
    "- In this case, one-hot encoding of the labels consists of embedding each label as an all-zero vector with a 1 in the place of a specific index. It's like \"ignore the rest as zeros but make a specific label index as 1\" for identification. \n",
    "- The following are two ways to do it:"
   ]
  },
  {
   "cell_type": "code",
   "execution_count": null,
   "metadata": {},
   "outputs": [],
   "source": [
    "# The explicit or manual way by defining a function\n",
    "\n",
    "# import numpy as np\n",
    "\n",
    "# def to_one_hot(labels, dimension=46):\n",
    "#    \"\"\"\n",
    "#    Converting the labels into one hot encoding.\n",
    "#    \"\"\"\n",
    "#    results = np.zeros((len(labels), dimension))\n",
    "#    for i, label in enumerate(labels):\n",
    "#        results[i, label] = 1\n",
    "#    return results\n",
    "\n",
    "\n",
    "# Function calls\n",
    "# Vectorized training labels\n",
    "# y_train = to_one_hot(train_labels)\n",
    "\n",
    "# Vectorized test labels\n",
    "# y_test = to_one_hot(test_labels)"
   ]
  },
  {
   "cell_type": "code",
   "execution_count": 10,
   "metadata": {},
   "outputs": [],
   "source": [
    "# The built-in way to do this in Keras:\n",
    "from tensorflow.keras.utils import to_categorical\n",
    "y_train = to_categorical(train_labels)\n",
    "y_test = to_categorical(test_labels)"
   ]
  },
  {
   "cell_type": "markdown",
   "metadata": {},
   "source": [
    "### Building your model\n",
    "📕💡 See page 108 for better understanding. <br>\n",
    "\n",
    "**Model definition**"
   ]
  },
  {
   "cell_type": "code",
   "execution_count": 13,
   "metadata": {},
   "outputs": [],
   "source": [
    "from tensorflow import keras\n",
    "from tensorflow.keras import layers\n",
    "\n",
    "model = keras.Sequential([\n",
    "    layers.Dense(64, activation=\"relu\"),\n",
    "    layers.Dense(64, activation=\"relu\"),\n",
    "    layers.Dense(46, activation=\"softmax\")\n",
    "])"
   ]
  },
  {
   "cell_type": "markdown",
   "metadata": {},
   "source": [
    "**Compiling the model**"
   ]
  },
  {
   "cell_type": "code",
   "execution_count": 14,
   "metadata": {},
   "outputs": [],
   "source": [
    "model.compile(optimizer=\"rmsprop\",\n",
    "              loss=\"categorical_crossentropy\",\n",
    "              metrics=[\"accuracy\"])"
   ]
  },
  {
   "cell_type": "markdown",
   "metadata": {},
   "source": [
    "### Validating your approach\n",
    "Let's set apart 1,000 samples in the training data to use as a validation set."
   ]
  },
  {
   "cell_type": "markdown",
   "metadata": {},
   "source": [
    "**Setting aside a validation set**"
   ]
  },
  {
   "cell_type": "code",
   "execution_count": 15,
   "metadata": {},
   "outputs": [],
   "source": [
    "#  Taking the first 1000 elements of the x_train (input data).\n",
    "x_val = x_train[:1000]\n",
    "\n",
    "# Taking all the elements of the x_train (input data) starting from the 1000th element.\n",
    "partial_x_train = x_train[1000:]\n",
    "\n",
    "#  Taking the first 1000 elements of the y_train (label data).\n",
    "y_val = y_train[:1000]\n",
    "\n",
    "# Taking all the elements of the y_train (label data) starting from the 1000th element.\n",
    "partial_y_train = y_train[1000:]"
   ]
  },
  {
   "cell_type": "markdown",
   "metadata": {},
   "source": [
    "Now, let's train the model for 20 epochs."
   ]
  },
  {
   "cell_type": "markdown",
   "metadata": {},
   "source": [
    "**Training the model**"
   ]
  },
  {
   "cell_type": "code",
   "execution_count": 16,
   "metadata": {},
   "outputs": [
    {
     "name": "stdout",
     "output_type": "stream",
     "text": [
      "Epoch 1/20\n",
      "16/16 [==============================] - 1s 43ms/step - loss: 2.5941 - accuracy: 0.5413 - val_loss: 1.6927 - val_accuracy: 0.6600\n",
      "Epoch 2/20\n",
      "16/16 [==============================] - 0s 31ms/step - loss: 1.3837 - accuracy: 0.7159 - val_loss: 1.3034 - val_accuracy: 0.7160\n",
      "Epoch 3/20\n",
      "16/16 [==============================] - 0s 25ms/step - loss: 1.0480 - accuracy: 0.7735 - val_loss: 1.1415 - val_accuracy: 0.7640\n",
      "Epoch 4/20\n",
      "16/16 [==============================] - 0s 27ms/step - loss: 0.8321 - accuracy: 0.8201 - val_loss: 1.0819 - val_accuracy: 0.7620\n",
      "Epoch 5/20\n",
      "16/16 [==============================] - 0s 26ms/step - loss: 0.6676 - accuracy: 0.8557 - val_loss: 1.0025 - val_accuracy: 0.7900\n",
      "Epoch 6/20\n",
      "16/16 [==============================] - 0s 25ms/step - loss: 0.5389 - accuracy: 0.8847 - val_loss: 0.9769 - val_accuracy: 0.7910\n",
      "Epoch 7/20\n",
      "16/16 [==============================] - 0s 24ms/step - loss: 0.4352 - accuracy: 0.9073 - val_loss: 0.9354 - val_accuracy: 0.8080\n",
      "Epoch 8/20\n",
      "16/16 [==============================] - 0s 29ms/step - loss: 0.3573 - accuracy: 0.9270 - val_loss: 0.9215 - val_accuracy: 0.8130\n",
      "Epoch 9/20\n",
      "16/16 [==============================] - 0s 24ms/step - loss: 0.2986 - accuracy: 0.9347 - val_loss: 0.8989 - val_accuracy: 0.8170\n",
      "Epoch 10/20\n",
      "16/16 [==============================] - 0s 25ms/step - loss: 0.2477 - accuracy: 0.9431 - val_loss: 0.9046 - val_accuracy: 0.8110\n",
      "Epoch 11/20\n",
      "16/16 [==============================] - 0s 24ms/step - loss: 0.2191 - accuracy: 0.9471 - val_loss: 0.9147 - val_accuracy: 0.8180\n",
      "Epoch 12/20\n",
      "16/16 [==============================] - 0s 25ms/step - loss: 0.1891 - accuracy: 0.9505 - val_loss: 0.9557 - val_accuracy: 0.8050\n",
      "Epoch 13/20\n",
      "16/16 [==============================] - 0s 24ms/step - loss: 0.1709 - accuracy: 0.9521 - val_loss: 1.0139 - val_accuracy: 0.8080\n",
      "Epoch 14/20\n",
      "16/16 [==============================] - 0s 26ms/step - loss: 0.1575 - accuracy: 0.9515 - val_loss: 0.9779 - val_accuracy: 0.8050\n",
      "Epoch 15/20\n",
      "16/16 [==============================] - 0s 23ms/step - loss: 0.1443 - accuracy: 0.9563 - val_loss: 1.0525 - val_accuracy: 0.7960\n",
      "Epoch 16/20\n",
      "16/16 [==============================] - 0s 24ms/step - loss: 0.1400 - accuracy: 0.9560 - val_loss: 1.0066 - val_accuracy: 0.8040\n",
      "Epoch 17/20\n",
      "16/16 [==============================] - 0s 27ms/step - loss: 0.1269 - accuracy: 0.9557 - val_loss: 1.0264 - val_accuracy: 0.8130\n",
      "Epoch 18/20\n",
      "16/16 [==============================] - 0s 25ms/step - loss: 0.1238 - accuracy: 0.9578 - val_loss: 1.0574 - val_accuracy: 0.8060\n",
      "Epoch 19/20\n",
      "16/16 [==============================] - 0s 24ms/step - loss: 0.1170 - accuracy: 0.9573 - val_loss: 1.0668 - val_accuracy: 0.8030\n",
      "Epoch 20/20\n",
      "16/16 [==============================] - 0s 25ms/step - loss: 0.1124 - accuracy: 0.9580 - val_loss: 1.0672 - val_accuracy: 0.8030\n"
     ]
    }
   ],
   "source": [
    "history = model.fit(partial_x_train,\n",
    "                    partial_y_train,\n",
    "                    epochs=20,\n",
    "                    batch_size=512,\n",
    "                    validation_data=(x_val, y_val))"
   ]
  },
  {
   "cell_type": "markdown",
   "metadata": {},
   "source": [
    "And finally, let's display its loss and accuracy curves."
   ]
  },
  {
   "cell_type": "markdown",
   "metadata": {},
   "source": [
    "**Plotting the training and validation loss**"
   ]
  },
  {
   "cell_type": "code",
   "execution_count": 17,
   "metadata": {},
   "outputs": [
    {
     "data": {
      "image/png": "[encoded data removed]",
      "text/plain": [
       "<Figure size 432x288 with 1 Axes>"
      ]
     },
     "metadata": {
      "needs_background": "light"
     },
     "output_type": "display_data"
    }
   ],
   "source": [
    "import matplotlib.pyplot as plt\n",
    "\n",
    "loss = history.history[\"loss\"]\n",
    "val_loss = history.history[\"val_loss\"]\n",
    "epochs = range(1, len(loss) + 1)\n",
    "plt.plot(epochs, loss, \"bo\", label=\"Training loss\")\n",
    "plt.plot(epochs, val_loss, \"b\", label=\"Validation loss\")\n",
    "plt.title(\"Training and validation loss\")\n",
    "plt.xlabel(\"Epochs\")\n",
    "plt.ylabel(\"Loss\")\n",
    "plt.legend()\n",
    "plt.show()"
   ]
  },
  {
   "cell_type": "markdown",
   "metadata": {},
   "source": [
    "**Plotting the training and validation accuracy**"
   ]
  },
  {
   "cell_type": "code",
   "execution_count": 18,
   "metadata": {},
   "outputs": [
    {
     "data": {
      "image/png": "[encoded data removed]",
      "text/plain": [
       "<Figure size 432x288 with 1 Axes>"
      ]
     },
     "metadata": {
      "needs_background": "light"
     },
     "output_type": "display_data"
    }
   ],
   "source": [
    "plt.clf()\n",
    "acc = history.history['accuracy']\n",
    "val_acc = history.history[\"val_accuracy\"]\n",
    "plt.plot(epochs, acc, \"bo\", label=\"Training accuracy\")\n",
    "plt.plot(epochs, val_acc, \"b\", label=\"Validation accuracy\")\n",
    "plt.title(\"Training and validation accuracy\")\n",
    "plt.xlabel(\"Epochs\")\n",
    "plt.ylabel(\"Accuracy\")\n",
    "plt.legend()\n",
    "plt.show()"
   ]
  },
  {
   "cell_type": "markdown",
   "metadata": {},
   "source": [
    "The model begins to overfit after nine epochs. Let's train a new model from scratch for nine epochs ans then evaluate it on the test set."
   ]
  },
  {
   "cell_type": "markdown",
   "metadata": {},
   "source": [
    "**Retraining a model from scratch**"
   ]
  },
  {
   "cell_type": "code",
   "execution_count": 19,
   "metadata": {},
   "outputs": [
    {
     "name": "stdout",
     "output_type": "stream",
     "text": [
      "Epoch 1/9\n"
     ]
    },
    {
     "name": "stderr",
     "output_type": "stream",
     "text": [
      "2022-07-24 15:35:39.223348: W tensorflow/core/framework/cpu_allocator_impl.cc:82] Allocation of 359280000 exceeds 10% of free system memory.\n"
     ]
    },
    {
     "name": "stdout",
     "output_type": "stream",
     "text": [
      "18/18 [==============================] - 1s 21ms/step - loss: 2.5838 - accuracy: 0.5177\n",
      "Epoch 2/9\n",
      "18/18 [==============================] - 0s 24ms/step - loss: 1.3571 - accuracy: 0.7159\n",
      "Epoch 3/9\n",
      "18/18 [==============================] - 0s 23ms/step - loss: 1.0059 - accuracy: 0.7852\n",
      "Epoch 4/9\n",
      "18/18 [==============================] - 1s 31ms/step - loss: 0.7882 - accuracy: 0.8367\n",
      "Epoch 5/9\n",
      "18/18 [==============================] - 0s 24ms/step - loss: 0.6278 - accuracy: 0.8709\n",
      "Epoch 6/9\n",
      "18/18 [==============================] - 0s 22ms/step - loss: 0.4979 - accuracy: 0.8937\n",
      "Epoch 7/9\n",
      "18/18 [==============================] - 0s 22ms/step - loss: 0.4011 - accuracy: 0.9177\n",
      "Epoch 8/9\n",
      "18/18 [==============================] - 0s 23ms/step - loss: 0.3300 - accuracy: 0.9296\n",
      "Epoch 9/9\n",
      "18/18 [==============================] - 0s 24ms/step - loss: 0.2748 - accuracy: 0.9377\n",
      "71/71 [==============================] - 0s 2ms/step - loss: 0.9949 - accuracy: 0.7867\n"
     ]
    }
   ],
   "source": [
    "model = keras.Sequential([\n",
    "    layers.Dense(64, activation=\"relu\"),\n",
    "    layers.Dense(64, activation=\"relu\"),\n",
    "    layers.Dense(46, activation=\"softmax\")\n",
    "])\n",
    "\n",
    "model.compile(optimizer=\"rmsprop\",\n",
    "              loss = \"categorical_crossentropy\",\n",
    "              metrics=[\"accuracy\"])\n",
    "\n",
    "model.fit(x_train,\n",
    "          y_train,\n",
    "          epochs=9,\n",
    "          batch_size=512)\n",
    "\n",
    "results = model.evaluate(x_test, y_test)"
   ]
  },
  {
   "cell_type": "code",
   "execution_count": 20,
   "metadata": {},
   "outputs": [
    {
     "name": "stdout",
     "output_type": "stream",
     "text": [
      "[0.9949263334274292, 0.7867319583892822]\n",
      "Test loss: 99.49%\n",
      "Test accuracy: 78.67%\n"
     ]
    }
   ],
   "source": [
    "print(results)\n",
    "print(f\"Test loss: {results[0]:.2%}\")\n",
    "print(f\"Test accuracy: {results[1]:.2%}\")"
   ]
  },
  {
   "cell_type": "markdown",
   "metadata": {},
   "source": [
    "This approach reaches an accuracy of ~79%. With a balanced binary classification problem, the accuracy reached by a purely random classifier is about 50%. But in this case, we have 46 classes, and they may not be equally repreented. What would be the accuracy of a random classifier? We could try quickly implementing one to check this by observing the code below."
   ]
  },
  {
   "cell_type": "code",
   "execution_count": 21,
   "metadata": {},
   "outputs": [
    {
     "data": {
      "text/plain": [
       "0.1803205699020481"
      ]
     },
     "execution_count": 21,
     "metadata": {},
     "output_type": "execute_result"
    }
   ],
   "source": [
    "# Shuffling the test labels and then comparing the shuffled labels to the original labels. \n",
    "# The mean of the hits array is the accuracy of the model.\n",
    "import copy\n",
    "test_labels_copy = copy.copy(test_labels)\n",
    "np.random.shuffle(test_labels_copy)\n",
    "hits_array = np.array(test_labels) == np.array(test_labels_copy)\n",
    "hits_array.mean()\n"
   ]
  },
  {
   "cell_type": "code",
   "execution_count": 22,
   "metadata": {},
   "outputs": [
    {
     "name": "stdout",
     "output_type": "stream",
     "text": [
      "18%\n"
     ]
    }
   ],
   "source": [
    "print(f\"{hits_array.mean():.0%}\")"
   ]
  },
  {
   "cell_type": "markdown",
   "metadata": {},
   "source": [
    "As you can see, a random classifier would score around 18% classification accuracy, so the results of our model seem pretty good compared to the random classifier."
   ]
  },
  {
   "cell_type": "markdown",
   "metadata": {},
   "source": [
    "### Generating predictions on new data"
   ]
  },
  {
   "cell_type": "code",
   "execution_count": 23,
   "metadata": {},
   "outputs": [
    {
     "name": "stdout",
     "output_type": "stream",
     "text": [
      "71/71 [==============================] - 0s 2ms/step\n"
     ]
    }
   ],
   "source": [
    "predictions = model.predict(x_test)"
   ]
  },
  {
   "cell_type": "code",
   "execution_count": 24,
   "metadata": {},
   "outputs": [
    {
     "data": {
      "text/plain": [
       "(46,)"
      ]
     },
     "execution_count": 24,
     "metadata": {},
     "output_type": "execute_result"
    }
   ],
   "source": [
    "predictions[0].shape"
   ]
  },
  {
   "cell_type": "code",
   "execution_count": 25,
   "metadata": {},
   "outputs": [
    {
     "data": {
      "text/plain": [
       "1.0000001"
      ]
     },
     "execution_count": 25,
     "metadata": {},
     "output_type": "execute_result"
    }
   ],
   "source": [
    "np.sum(predictions[0])"
   ]
  },
  {
   "cell_type": "code",
   "execution_count": 26,
   "metadata": {},
   "outputs": [
    {
     "data": {
      "text/plain": [
       "3"
      ]
     },
     "execution_count": 26,
     "metadata": {},
     "output_type": "execute_result"
    }
   ],
   "source": [
    "np.argmax(predictions[0])"
   ]
  },
  {
   "cell_type": "markdown",
   "metadata": {},
   "source": [
    "### A different way to handle the labels and the loss"
   ]
  },
  {
   "cell_type": "code",
   "execution_count": null,
   "metadata": {},
   "outputs": [],
   "source": [
    "y_train = np.array(train_labels)\n",
    "y_test = np.array(test_labels)"
   ]
  },
  {
   "cell_type": "code",
   "execution_count": null,
   "metadata": {},
   "outputs": [],
   "source": [
    "model.compile(optimizer=\"rmsprop\",\n",
    "              loss=\"sparse_categorical_crossentropy\",\n",
    "              metrics=[\"accuracy\"])"
   ]
  },
  {
   "cell_type": "markdown",
   "metadata": {},
   "source": [
    "### The importance of having sufficiently large intermediate layers\n",
    "**A model with an information bottleneck (traffic or congestion in learning)**"
   ]
  },
  {
   "cell_type": "code",
   "execution_count": 27,
   "metadata": {},
   "outputs": [
    {
     "name": "stdout",
     "output_type": "stream",
     "text": [
      "Epoch 1/20\n",
      "63/63 [==============================] - 1s 15ms/step - loss: 2.8198 - accuracy: 0.3814 - val_loss: 2.1434 - val_accuracy: 0.5820\n",
      "Epoch 2/20\n",
      "63/63 [==============================] - 1s 11ms/step - loss: 1.7147 - accuracy: 0.6232 - val_loss: 1.5511 - val_accuracy: 0.6300\n",
      "Epoch 3/20\n",
      "63/63 [==============================] - 1s 10ms/step - loss: 1.3102 - accuracy: 0.6570 - val_loss: 1.3933 - val_accuracy: 0.6800\n",
      "Epoch 4/20\n",
      "63/63 [==============================] - 1s 10ms/step - loss: 1.1341 - accuracy: 0.7350 - val_loss: 1.3362 - val_accuracy: 0.7080\n",
      "Epoch 5/20\n",
      "63/63 [==============================] - 1s 11ms/step - loss: 1.0067 - accuracy: 0.7642 - val_loss: 1.2864 - val_accuracy: 0.7190\n",
      "Epoch 6/20\n",
      "63/63 [==============================] - 1s 11ms/step - loss: 0.9085 - accuracy: 0.7813 - val_loss: 1.2673 - val_accuracy: 0.7180\n",
      "Epoch 7/20\n",
      "63/63 [==============================] - 1s 11ms/step - loss: 0.8303 - accuracy: 0.7949 - val_loss: 1.3027 - val_accuracy: 0.7150\n",
      "Epoch 8/20\n",
      "63/63 [==============================] - 1s 13ms/step - loss: 0.7681 - accuracy: 0.8018 - val_loss: 1.2874 - val_accuracy: 0.7170\n",
      "Epoch 9/20\n",
      "63/63 [==============================] - 1s 11ms/step - loss: 0.7169 - accuracy: 0.8103 - val_loss: 1.3141 - val_accuracy: 0.7180\n",
      "Epoch 10/20\n",
      "63/63 [==============================] - 1s 12ms/step - loss: 0.6697 - accuracy: 0.8173 - val_loss: 1.3377 - val_accuracy: 0.7130\n",
      "Epoch 11/20\n",
      "63/63 [==============================] - 1s 11ms/step - loss: 0.6327 - accuracy: 0.8246 - val_loss: 1.4078 - val_accuracy: 0.7140\n",
      "Epoch 12/20\n",
      "63/63 [==============================] - 1s 12ms/step - loss: 0.5989 - accuracy: 0.8331 - val_loss: 1.4582 - val_accuracy: 0.7160\n",
      "Epoch 13/20\n",
      "63/63 [==============================] - 1s 12ms/step - loss: 0.5675 - accuracy: 0.8383 - val_loss: 1.5320 - val_accuracy: 0.7180\n",
      "Epoch 14/20\n",
      "63/63 [==============================] - 1s 10ms/step - loss: 0.5408 - accuracy: 0.8443 - val_loss: 1.5200 - val_accuracy: 0.7290\n",
      "Epoch 15/20\n",
      "63/63 [==============================] - 1s 12ms/step - loss: 0.5172 - accuracy: 0.8497 - val_loss: 1.6395 - val_accuracy: 0.7220\n",
      "Epoch 16/20\n",
      "63/63 [==============================] - 1s 11ms/step - loss: 0.4967 - accuracy: 0.8599 - val_loss: 1.7381 - val_accuracy: 0.7170\n",
      "Epoch 17/20\n",
      "63/63 [==============================] - 1s 11ms/step - loss: 0.4784 - accuracy: 0.8623 - val_loss: 1.7553 - val_accuracy: 0.7230\n",
      "Epoch 18/20\n",
      "63/63 [==============================] - 1s 11ms/step - loss: 0.4656 - accuracy: 0.8668 - val_loss: 1.7841 - val_accuracy: 0.7210\n",
      "Epoch 19/20\n",
      "63/63 [==============================] - 1s 10ms/step - loss: 0.4491 - accuracy: 0.8701 - val_loss: 1.8346 - val_accuracy: 0.7210\n",
      "Epoch 20/20\n",
      "63/63 [==============================] - 1s 10ms/step - loss: 0.4360 - accuracy: 0.8748 - val_loss: 1.9587 - val_accuracy: 0.7180\n"
     ]
    },
    {
     "data": {
      "text/plain": [
       "<keras.callbacks.History at 0x7f8721a9bf70>"
      ]
     },
     "execution_count": 27,
     "metadata": {},
     "output_type": "execute_result"
    }
   ],
   "source": [
    "model = keras.Sequential([\n",
    "    layers.Dense(64, activation=\"relu\"),\n",
    "    layers.Dense(4, activation=\"relu\"),\n",
    "    layers.Dense(46, activation=\"softmax\")\n",
    "])\n",
    "\n",
    "model.compile(optimizer=\"rmsprop\",\n",
    "              loss=\"categorical_crossentropy\",\n",
    "              metrics=[\"accuracy\"])\n",
    "\n",
    "# We will use a validation set since this is a simulation of having a bottleneck, not our final model.\n",
    "model.fit(partial_x_train,\n",
    "          partial_y_train,\n",
    "          epochs=20,\n",
    "          batch_size=128,\n",
    "          validation_data=(x_val, y_val))"
   ]
  },
  {
   "cell_type": "markdown",
   "metadata": {},
   "source": [
    "The model now peaks at ~71% validation accuracy, an 8% absolute drop. This drop is mostly due to the fact that we're trying to compress a lot of information (enough information to recover the separation hyperplanes of 46 classes) into an intermediate space that is too low-dimensional. The model is able to cram <em>most</em> of the necessary information into these four-dimensional representations, but not all of it."
   ]
  },
  {
   "cell_type": "markdown",
   "metadata": {},
   "source": [
    "### Further experiments"
   ]
  },
  {
   "cell_type": "markdown",
   "metadata": {},
   "source": [
    "**Try using larger or smaller layers: 32 units, 128 units, and so on.**"
   ]
  },
  {
   "cell_type": "markdown",
   "metadata": {},
   "source": [
    "**Using smaller layers of 32 units**"
   ]
  },
  {
   "cell_type": "code",
   "execution_count": 28,
   "metadata": {},
   "outputs": [
    {
     "name": "stdout",
     "output_type": "stream",
     "text": [
      "Epoch 1/20\n",
      "63/63 [==============================] - 1s 12ms/step - loss: 2.2024 - accuracy: 0.5494 - val_loss: 1.4933 - val_accuracy: 0.6500\n",
      "Epoch 2/20\n",
      "63/63 [==============================] - 1s 8ms/step - loss: 1.2459 - accuracy: 0.7191 - val_loss: 1.2015 - val_accuracy: 0.7080\n",
      "Epoch 3/20\n",
      "63/63 [==============================] - 0s 8ms/step - loss: 0.9279 - accuracy: 0.7989 - val_loss: 1.0438 - val_accuracy: 0.7790\n",
      "Epoch 4/20\n",
      "63/63 [==============================] - 0s 8ms/step - loss: 0.7194 - accuracy: 0.8438 - val_loss: 0.9870 - val_accuracy: 0.7790\n",
      "Epoch 5/20\n",
      "63/63 [==============================] - 1s 8ms/step - loss: 0.5654 - accuracy: 0.8770 - val_loss: 0.9366 - val_accuracy: 0.8020\n",
      "Epoch 6/20\n",
      "63/63 [==============================] - 0s 8ms/step - loss: 0.4469 - accuracy: 0.9040 - val_loss: 0.9472 - val_accuracy: 0.7930\n",
      "Epoch 7/20\n",
      "63/63 [==============================] - 0s 8ms/step - loss: 0.3565 - accuracy: 0.9222 - val_loss: 0.9323 - val_accuracy: 0.8020\n",
      "Epoch 8/20\n",
      "63/63 [==============================] - 1s 9ms/step - loss: 0.2905 - accuracy: 0.9344 - val_loss: 0.9327 - val_accuracy: 0.8210\n",
      "Epoch 9/20\n",
      "63/63 [==============================] - 0s 8ms/step - loss: 0.2411 - accuracy: 0.9445 - val_loss: 1.0015 - val_accuracy: 0.8100\n",
      "Epoch 10/20\n",
      "63/63 [==============================] - 1s 9ms/step - loss: 0.2103 - accuracy: 0.9485 - val_loss: 1.0167 - val_accuracy: 0.8040\n",
      "Epoch 11/20\n",
      "63/63 [==============================] - 1s 8ms/step - loss: 0.1831 - accuracy: 0.9519 - val_loss: 1.0086 - val_accuracy: 0.8150\n",
      "Epoch 12/20\n",
      "63/63 [==============================] - 0s 8ms/step - loss: 0.1652 - accuracy: 0.9528 - val_loss: 1.0380 - val_accuracy: 0.8120\n",
      "Epoch 13/20\n",
      "63/63 [==============================] - 0s 8ms/step - loss: 0.1510 - accuracy: 0.9543 - val_loss: 1.0463 - val_accuracy: 0.8100\n",
      "Epoch 14/20\n",
      "63/63 [==============================] - 1s 9ms/step - loss: 0.1423 - accuracy: 0.9562 - val_loss: 1.1157 - val_accuracy: 0.7970\n",
      "Epoch 15/20\n",
      "63/63 [==============================] - 0s 8ms/step - loss: 0.1349 - accuracy: 0.9562 - val_loss: 1.1615 - val_accuracy: 0.8050\n",
      "Epoch 16/20\n",
      "63/63 [==============================] - 0s 8ms/step - loss: 0.1310 - accuracy: 0.9558 - val_loss: 1.1680 - val_accuracy: 0.8010\n",
      "Epoch 17/20\n",
      "63/63 [==============================] - 1s 8ms/step - loss: 0.1228 - accuracy: 0.9583 - val_loss: 1.1908 - val_accuracy: 0.7970\n",
      "Epoch 18/20\n",
      "63/63 [==============================] - 1s 8ms/step - loss: 0.1207 - accuracy: 0.9589 - val_loss: 1.2379 - val_accuracy: 0.7960\n",
      "Epoch 19/20\n",
      "63/63 [==============================] - 1s 8ms/step - loss: 0.1176 - accuracy: 0.9568 - val_loss: 1.2834 - val_accuracy: 0.7810\n",
      "Epoch 20/20\n",
      "63/63 [==============================] - 0s 8ms/step - loss: 0.1158 - accuracy: 0.9555 - val_loss: 1.2210 - val_accuracy: 0.7990\n"
     ]
    },
    {
     "data": {
      "text/plain": [
       "<keras.callbacks.History at 0x7f8720fb4f40>"
      ]
     },
     "execution_count": 28,
     "metadata": {},
     "output_type": "execute_result"
    }
   ],
   "source": [
    "model = keras.Sequential([\n",
    "    layers.Dense(32, activation=\"relu\"),\n",
    "    layers.Dense(32, activation=\"relu\"),\n",
    "    layers.Dense(46, activation=\"softmax\")\n",
    "])\n",
    "\n",
    "model.compile(optimizer=\"rmsprop\",\n",
    "              loss=\"categorical_crossentropy\",\n",
    "              metrics=[\"accuracy\"])\n",
    "\n",
    "# We will use a validation set since this is a simulation of using 32 units, not our final model.\n",
    "model.fit(partial_x_train,\n",
    "          partial_y_train,\n",
    "          epochs=20,\n",
    "          batch_size=128,\n",
    "          validation_data=(x_val, y_val))"
   ]
  },
  {
   "cell_type": "markdown",
   "metadata": {},
   "source": [
    "The model now peaks at ~80% validation accuracy, a 1% increase."
   ]
  },
  {
   "cell_type": "markdown",
   "metadata": {},
   "source": [
    "**Using larger layers of 128 units**"
   ]
  },
  {
   "cell_type": "code",
   "execution_count": 29,
   "metadata": {},
   "outputs": [
    {
     "name": "stdout",
     "output_type": "stream",
     "text": [
      "Epoch 1/20\n",
      "63/63 [==============================] - 2s 19ms/step - loss: 1.5737 - accuracy: 0.6661 - val_loss: 1.0876 - val_accuracy: 0.7690\n",
      "Epoch 2/20\n",
      "63/63 [==============================] - 1s 16ms/step - loss: 0.7665 - accuracy: 0.8360 - val_loss: 0.8971 - val_accuracy: 0.8220\n",
      "Epoch 3/20\n",
      "63/63 [==============================] - 1s 16ms/step - loss: 0.4574 - accuracy: 0.9024 - val_loss: 0.8375 - val_accuracy: 0.8140\n",
      "Epoch 4/20\n",
      "63/63 [==============================] - 1s 15ms/step - loss: 0.3014 - accuracy: 0.9334 - val_loss: 0.8792 - val_accuracy: 0.8120\n",
      "Epoch 5/20\n",
      "63/63 [==============================] - 1s 15ms/step - loss: 0.2269 - accuracy: 0.9451 - val_loss: 0.9490 - val_accuracy: 0.8070\n",
      "Epoch 6/20\n",
      "63/63 [==============================] - 1s 16ms/step - loss: 0.1825 - accuracy: 0.9513 - val_loss: 0.9358 - val_accuracy: 0.8140\n",
      "Epoch 7/20\n",
      "63/63 [==============================] - 1s 15ms/step - loss: 0.1756 - accuracy: 0.9524 - val_loss: 0.9639 - val_accuracy: 0.8170\n",
      "Epoch 8/20\n",
      "63/63 [==============================] - 1s 15ms/step - loss: 0.1512 - accuracy: 0.9553 - val_loss: 1.1162 - val_accuracy: 0.7990\n",
      "Epoch 9/20\n",
      "63/63 [==============================] - 1s 15ms/step - loss: 0.1388 - accuracy: 0.9553 - val_loss: 0.9962 - val_accuracy: 0.8050\n",
      "Epoch 10/20\n",
      "63/63 [==============================] - 1s 15ms/step - loss: 0.1292 - accuracy: 0.9574 - val_loss: 1.0253 - val_accuracy: 0.8070\n",
      "Epoch 11/20\n",
      "63/63 [==============================] - 1s 16ms/step - loss: 0.1244 - accuracy: 0.9535 - val_loss: 1.1092 - val_accuracy: 0.8050\n",
      "Epoch 12/20\n",
      "63/63 [==============================] - 1s 15ms/step - loss: 0.1166 - accuracy: 0.9559 - val_loss: 1.2221 - val_accuracy: 0.8030\n",
      "Epoch 13/20\n",
      "63/63 [==============================] - 1s 17ms/step - loss: 0.1107 - accuracy: 0.9577 - val_loss: 1.1582 - val_accuracy: 0.8040\n",
      "Epoch 14/20\n",
      "63/63 [==============================] - 1s 15ms/step - loss: 0.1064 - accuracy: 0.9582 - val_loss: 1.1460 - val_accuracy: 0.8100\n",
      "Epoch 15/20\n",
      "63/63 [==============================] - 1s 15ms/step - loss: 0.0991 - accuracy: 0.9569 - val_loss: 1.2581 - val_accuracy: 0.8070\n",
      "Epoch 16/20\n",
      "63/63 [==============================] - 1s 16ms/step - loss: 0.0964 - accuracy: 0.9564 - val_loss: 1.2637 - val_accuracy: 0.8010\n",
      "Epoch 17/20\n",
      "63/63 [==============================] - 1s 15ms/step - loss: 0.0933 - accuracy: 0.9579 - val_loss: 1.3277 - val_accuracy: 0.8050\n",
      "Epoch 18/20\n",
      "63/63 [==============================] - 1s 15ms/step - loss: 0.0893 - accuracy: 0.9572 - val_loss: 1.4036 - val_accuracy: 0.8130\n",
      "Epoch 19/20\n",
      "63/63 [==============================] - 1s 15ms/step - loss: 0.0869 - accuracy: 0.9573 - val_loss: 1.5336 - val_accuracy: 0.7900\n",
      "Epoch 20/20\n",
      "63/63 [==============================] - 1s 15ms/step - loss: 0.0817 - accuracy: 0.9570 - val_loss: 1.5616 - val_accuracy: 0.8030\n"
     ]
    },
    {
     "data": {
      "text/plain": [
       "<keras.callbacks.History at 0x7f8721a9ae90>"
      ]
     },
     "execution_count": 29,
     "metadata": {},
     "output_type": "execute_result"
    }
   ],
   "source": [
    "model = keras.Sequential([\n",
    "    layers.Dense(128, activation=\"relu\"),\n",
    "    layers.Dense(128, activation=\"relu\"),\n",
    "    layers.Dense(46, activation=\"softmax\")\n",
    "])\n",
    "\n",
    "model.compile(optimizer=\"rmsprop\",\n",
    "              loss=\"categorical_crossentropy\",\n",
    "              metrics=[\"accuracy\"])\n",
    "\n",
    "# We will use a validation set since this is a simulation of using 128 units, not our final model.\n",
    "model.fit(partial_x_train,\n",
    "          partial_y_train,\n",
    "          epochs=20,\n",
    "          batch_size=128,\n",
    "          validation_data=(x_val, y_val))"
   ]
  },
  {
   "cell_type": "markdown",
   "metadata": {},
   "source": [
    "The model now peaks at 80% validation accuracy, but a much better increase."
   ]
  },
  {
   "cell_type": "markdown",
   "metadata": {},
   "source": [
    "**Now try using a single intermediate layer**"
   ]
  },
  {
   "cell_type": "code",
   "execution_count": 31,
   "metadata": {},
   "outputs": [
    {
     "name": "stdout",
     "output_type": "stream",
     "text": [
      "Epoch 1/20\n",
      "63/63 [==============================] - 1s 14ms/step - loss: 1.7993 - accuracy: 0.6322 - val_loss: 1.1928 - val_accuracy: 0.7370\n",
      "Epoch 2/20\n",
      "63/63 [==============================] - 1s 11ms/step - loss: 0.9299 - accuracy: 0.8034 - val_loss: 0.9788 - val_accuracy: 0.7980\n",
      "Epoch 3/20\n",
      "63/63 [==============================] - 1s 11ms/step - loss: 0.6390 - accuracy: 0.8662 - val_loss: 0.8564 - val_accuracy: 0.8170\n",
      "Epoch 4/20\n",
      "63/63 [==============================] - 1s 10ms/step - loss: 0.4549 - accuracy: 0.9053 - val_loss: 0.8207 - val_accuracy: 0.8250\n",
      "Epoch 5/20\n",
      "63/63 [==============================] - 1s 11ms/step - loss: 0.3397 - accuracy: 0.9277 - val_loss: 0.8238 - val_accuracy: 0.8210\n",
      "Epoch 6/20\n",
      "63/63 [==============================] - 1s 11ms/step - loss: 0.2657 - accuracy: 0.9394 - val_loss: 0.8130 - val_accuracy: 0.8280\n",
      "Epoch 7/20\n",
      "63/63 [==============================] - 1s 10ms/step - loss: 0.2178 - accuracy: 0.9460 - val_loss: 0.8237 - val_accuracy: 0.8340\n",
      "Epoch 8/20\n",
      "63/63 [==============================] - 1s 10ms/step - loss: 0.1847 - accuracy: 0.9498 - val_loss: 0.8476 - val_accuracy: 0.8280\n",
      "Epoch 9/20\n",
      "63/63 [==============================] - 1s 11ms/step - loss: 0.1628 - accuracy: 0.9528 - val_loss: 0.8741 - val_accuracy: 0.8250\n",
      "Epoch 10/20\n",
      "63/63 [==============================] - 1s 11ms/step - loss: 0.1487 - accuracy: 0.9550 - val_loss: 0.9179 - val_accuracy: 0.8150\n",
      "Epoch 11/20\n",
      "63/63 [==============================] - 1s 11ms/step - loss: 0.1360 - accuracy: 0.9559 - val_loss: 0.9363 - val_accuracy: 0.8130\n",
      "Epoch 12/20\n",
      "63/63 [==============================] - 1s 12ms/step - loss: 0.1292 - accuracy: 0.9564 - val_loss: 0.9350 - val_accuracy: 0.8190\n",
      "Epoch 13/20\n",
      "63/63 [==============================] - 1s 13ms/step - loss: 0.1213 - accuracy: 0.9550 - val_loss: 0.9966 - val_accuracy: 0.8090\n",
      "Epoch 14/20\n",
      "63/63 [==============================] - 1s 10ms/step - loss: 0.1171 - accuracy: 0.9562 - val_loss: 1.0347 - val_accuracy: 0.8090\n",
      "Epoch 15/20\n",
      "63/63 [==============================] - 1s 10ms/step - loss: 0.1154 - accuracy: 0.9575 - val_loss: 1.0359 - val_accuracy: 0.8070\n",
      "Epoch 16/20\n",
      "63/63 [==============================] - 1s 11ms/step - loss: 0.1101 - accuracy: 0.9579 - val_loss: 1.0446 - val_accuracy: 0.8120\n",
      "Epoch 17/20\n",
      "63/63 [==============================] - 1s 11ms/step - loss: 0.1086 - accuracy: 0.9562 - val_loss: 1.0860 - val_accuracy: 0.8060\n",
      "Epoch 18/20\n",
      "63/63 [==============================] - 1s 11ms/step - loss: 0.1055 - accuracy: 0.9582 - val_loss: 1.1468 - val_accuracy: 0.8000\n",
      "Epoch 19/20\n",
      "63/63 [==============================] - 1s 11ms/step - loss: 0.1038 - accuracy: 0.9585 - val_loss: 1.1385 - val_accuracy: 0.8000\n",
      "Epoch 20/20\n",
      "63/63 [==============================] - 1s 11ms/step - loss: 0.1042 - accuracy: 0.9560 - val_loss: 1.1278 - val_accuracy: 0.8030\n"
     ]
    },
    {
     "data": {
      "text/plain": [
       "<keras.callbacks.History at 0x7f870c150c40>"
      ]
     },
     "execution_count": 31,
     "metadata": {},
     "output_type": "execute_result"
    }
   ],
   "source": [
    "model = keras.Sequential([\n",
    "    layers.Dense(64, activation=\"relu\"),\n",
    "    layers.Dense(46, activation=\"softmax\")\n",
    "])\n",
    "\n",
    "model.compile(optimizer=\"rmsprop\",\n",
    "              loss=\"categorical_crossentropy\",\n",
    "              metrics=[\"accuracy\"])\n",
    "\n",
    "# We will use a validation set since this is a simulation of using \n",
    "# one intermediate layer, not our final model.\n",
    "model.fit(partial_x_train,\n",
    "          partial_y_train,\n",
    "          epochs=20,\n",
    "          batch_size=128,\n",
    "          validation_data=(x_val, y_val))"
   ]
  },
  {
   "cell_type": "markdown",
   "metadata": {},
   "source": [
    "The model still peaks at 80% validation accuracy."
   ]
  },
  {
   "cell_type": "markdown",
   "metadata": {},
   "source": [
    "Read **Wrapping Up** on page 113."
   ]
  }
 ],
 "metadata": {
  "kernelspec": {
   "display_name": "Python 3.10.4 64-bit",
   "language": "python",
   "name": "python3"
  },
  "language_info": {
   "codemirror_mode": {
    "name": "ipython",
    "version": 3
   },
   "file_extension": ".py",
   "mimetype": "text/x-python",
   "name": "python",
   "nbconvert_exporter": "python",
   "pygments_lexer": "ipython3",
   "version": "3.10.4"
  },
  "orig_nbformat": 4,
  "vscode": {
   "interpreter": {
    "hash": "4f946df053fbf2b937619d3c5458e7af74262f9a954d8797ba0b27400bcafe06"
   }
  }
 },
 "nbformat": 4,
 "nbformat_minor": 2
}
