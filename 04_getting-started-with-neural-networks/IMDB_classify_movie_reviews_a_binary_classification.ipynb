{
  "cells": [
    {
      "cell_type": "markdown",
      "metadata": {
        "colab_type": "text",
        "id": "view-in-github"
      },
      "source": [
        "<a href=\"https://colab.research.google.com/github/ralphcajipe/Deep-Learning-with-Python/blob/main/IMDB_classify_movie_reviews_a_binary_classification.ipynb\" target=\"_parent\"><img src=\"https://colab.research.google.com/assets/colab-badge.svg\" alt=\"Open In Colab\"/></a>"
      ]
    },
    {
      "cell_type": "markdown",
      "metadata": {
        "id": "Tx9h0l1ouo4T"
      },
      "source": [
        "# Classifying movie reviews: A binary classfication example\n",
        "Problem: Classify movie reviews as positive (1) or negative (0), based on the text content of the reviews (sequence of words)."
      ]
    },
    {
      "cell_type": "markdown",
      "metadata": {
        "id": "N9p2kt55vGgH"
      },
      "source": [
        "### The IMDB dataset\n",
        "**Loading the IMDB dataset**"
      ]
    },
    {
      "cell_type": "code",
      "execution_count": 1,
      "metadata": {
        "colab": {
          "base_uri": "https://localhost:8080/"
        },
        "id": "MuUDn3lopuVo",
        "outputId": "93a9db46-404e-45bb-c42a-25fc5fb39a5c"
      },
      "outputs": [
        {
          "name": "stdout",
          "output_type": "stream",
          "text": [
            "Downloading data from https://storage.googleapis.com/tensorflow/tf-keras-datasets/imdb.npz\n",
            "17465344/17464789 [==============================] - 0s 0us/step\n",
            "17473536/17464789 [==============================] - 0s 0us/step\n"
          ]
        }
      ],
      "source": [
        "from tensorflow.keras.datasets import imdb\n",
        "(train_data, train_labels), (test_data, test_labels) = imdb.load_data(num_words=10000)"
      ]
    },
    {
      "cell_type": "code",
      "execution_count": 2,
      "metadata": {
        "colab": {
          "base_uri": "https://localhost:8080/"
        },
        "id": "JJfx3Qyhv5gE",
        "outputId": "c1d2ba43-e21f-48ce-ec74-ee7d2a5b5747"
      },
      "outputs": [
        {
          "name": "stdout",
          "output_type": "stream",
          "text": [
            "[1, 14, 22, 16, 43, 530, 973, 1622, 1385, 65, 458, 4468, 66, 3941, 4, 173, 36, 256, 5, 25, 100, 43, 838, 112, 50, 670, 2, 9, 35, 480, 284, 5, 150, 4, 172, 112, 167, 2, 336, 385, 39, 4, 172, 4536, 1111, 17, 546, 38, 13, 447, 4, 192, 50, 16, 6, 147, 2025, 19, 14, 22, 4, 1920, 4613, 469, 4, 22, 71, 87, 12, 16, 43, 530, 38, 76, 15, 13, 1247, 4, 22, 17, 515, 17, 12, 16, 626, 18, 2, 5, 62, 386, 12, 8, 316, 8, 106, 5, 4, 2223, 5244, 16, 480, 66, 3785, 33, 4, 130, 12, 16, 38, 619, 5, 25, 124, 51, 36, 135, 48, 25, 1415, 33, 6, 22, 12, 215, 28, 77, 52, 5, 14, 407, 16, 82, 2, 8, 4, 107, 117, 5952, 15, 256, 4, 2, 7, 3766, 5, 723, 36, 71, 43, 530, 476, 26, 400, 317, 46, 7, 4, 2, 1029, 13, 104, 88, 4, 381, 15, 297, 98, 32, 2071, 56, 26, 141, 6, 194, 7486, 18, 4, 226, 22, 21, 134, 476, 26, 480, 5, 144, 30, 5535, 18, 51, 36, 28, 224, 92, 25, 104, 4, 226, 65, 16, 38, 1334, 88, 12, 16, 283, 5, 16, 4472, 113, 103, 32, 15, 16, 5345, 19, 178, 32]"
          ]
        }
      ],
      "source": [
        "print(train_data[0], end='')"
      ]
    },
    {
      "cell_type": "code",
      "execution_count": 3,
      "metadata": {
        "colab": {
          "base_uri": "https://localhost:8080/"
        },
        "id": "2gjiRNhlwBvI",
        "outputId": "30eedfd2-739d-4d92-893e-1f59d11fd7e8"
      },
      "outputs": [
        {
          "data": {
            "text/plain": [
              "1"
            ]
          },
          "execution_count": 3,
          "metadata": {},
          "output_type": "execute_result"
        }
      ],
      "source": [
        "train_labels[0]"
      ]
    },
    {
      "cell_type": "code",
      "execution_count": 4,
      "metadata": {
        "colab": {
          "base_uri": "https://localhost:8080/"
        },
        "id": "7pUzzDlCxHiO",
        "outputId": "b25d5af4-a22c-4349-a12f-ed7ff53c9cf2"
      },
      "outputs": [
        {
          "data": {
            "text/plain": [
              "9999"
            ]
          },
          "execution_count": 4,
          "metadata": {},
          "output_type": "execute_result"
        }
      ],
      "source": [
        "max([max(sequence) for sequence in train_data])"
      ]
    },
    {
      "cell_type": "markdown",
      "metadata": {
        "id": "q5IehsGxyYT8"
      },
      "source": [
        "**Decoding reviews back to text**"
      ]
    },
    {
      "cell_type": "code",
      "execution_count": 5,
      "metadata": {
        "colab": {
          "base_uri": "https://localhost:8080/"
        },
        "id": "WkrjhpImyjET",
        "outputId": "f5973ef2-bbe0-4907-f1e6-ffbd797b86cf"
      },
      "outputs": [
        {
          "name": "stdout",
          "output_type": "stream",
          "text": [
            "Downloading data from https://storage.googleapis.com/tensorflow/tf-keras-datasets/imdb_word_index.json\n",
            "1646592/1641221 [==============================] - 0s 0us/step\n",
            "1654784/1641221 [==============================] - 0s 0us/step\n"
          ]
        }
      ],
      "source": [
        "# word_index is a dictionary mapping words to an integer index.\n",
        "word_index = imdb.get_word_index()\n",
        "\n",
        "# Reverses it, mapping integer indices to words\n",
        "reverse_word_index = dict(\n",
        "    [(value, key) for (key, value) in word_index.items()]\n",
        ")\n",
        "\n",
        "# Decodes the review. Note that the indices are offset by 3\n",
        "# because 0, 1, and 2 are reserved indices for \"padding,\"\n",
        "# \"start of sequence,\" and \"unknown.\"\n",
        "decoded_review = \" \".join(\n",
        "    [reverse_word_index.get(i - 3, \"?\") for i in train_data[0]]\n",
        ")"
      ]
    },
    {
      "cell_type": "markdown",
      "metadata": {
        "id": "Uwdu3edeA_jt"
      },
      "source": [
        "### Preparing the data\n",
        "**Encoding the integer sequences via multi-hot encoding**"
      ]
    },
    {
      "cell_type": "code",
      "execution_count": 6,
      "metadata": {
        "id": "NtwpeeSqBe5M"
      },
      "outputs": [],
      "source": [
        "import numpy as np\n",
        "def vectorize_sequences(sequences, dimension=10000):\n",
        "    \"\"\"Vectorizing the sequence of words.\"\"\"\n",
        "    \n",
        "    # Creates an all-zero matrix of shape (len(sequences), dimension)\n",
        "    results = np.zeros((len(sequences), dimension))\n",
        "    for i, sequence in enumerate(sequences):\n",
        "        for j in sequence:\n",
        "            # Sets specific indices of results[i] to 1s\n",
        "            results[i, j] = 1\n",
        "    return results\n",
        "\n",
        "# Vectorized training data\n",
        "x_train = vectorize_sequences(train_data)\n",
        "\n",
        "# Vectorized test data\n",
        "x_test = vectorize_sequences(test_data)"
      ]
    },
    {
      "cell_type": "code",
      "execution_count": 7,
      "metadata": {
        "colab": {
          "base_uri": "https://localhost:8080/"
        },
        "id": "-97amIU8Dwde",
        "outputId": "8327807f-388c-494d-f335-0ba66c51a0c6"
      },
      "outputs": [
        {
          "data": {
            "text/plain": [
              "array([0., 1., 1., ..., 0., 0., 0.])"
            ]
          },
          "execution_count": 7,
          "metadata": {},
          "output_type": "execute_result"
        }
      ],
      "source": [
        "x_train[0]"
      ]
    },
    {
      "cell_type": "code",
      "execution_count": 8,
      "metadata": {
        "id": "cbbEG5JqDx1C"
      },
      "outputs": [],
      "source": [
        "# Vectorize your labels too\n",
        "y_train = np.asarray(train_labels).astype(\"float32\")\n",
        "y_test = np.array(test_labels).astype(\"float32\")"
      ]
    },
    {
      "cell_type": "markdown",
      "metadata": {
        "id": "zU5ST4sNGLWD"
      },
      "source": [
        "### Building your model\n",
        "**Model definition**"
      ]
    },
    {
      "cell_type": "code",
      "execution_count": 9,
      "metadata": {
        "id": "9dUIRt_eGSVh"
      },
      "outputs": [],
      "source": [
        "from tensorflow import keras\n",
        "from tensorflow.keras import layers\n",
        "\n",
        "# Creating a sequential model with 3 layers\n",
        "model = keras.Sequential([\n",
        "    layers.Dense(16, activation=\"relu\"),\n",
        "    layers.Dense(16, activation=\"relu\"),\n",
        "    layers.Dense(1, activation=\"sigmoid\")\n",
        "])"
      ]
    },
    {
      "cell_type": "markdown",
      "metadata": {
        "id": "Z58VKCEzM_vd"
      },
      "source": [
        "**Compiling the model**"
      ]
    },
    {
      "cell_type": "code",
      "execution_count": 10,
      "metadata": {
        "id": "02qSms0INDJe"
      },
      "outputs": [],
      "source": [
        "model.compile(optimizer=\"rmsprop\",\n",
        "              loss=\"binary_crossentropy\",\n",
        "              metrics=[\"accuracy\"])"
      ]
    },
    {
      "cell_type": "markdown",
      "metadata": {
        "id": "QekVcEPlNvP2"
      },
      "source": [
        "### Validating your approach\n",
        "**Setting aside a validation set**"
      ]
    },
    {
      "cell_type": "code",
      "execution_count": 11,
      "metadata": {
        "id": "PnsW3UzQPpD3"
      },
      "outputs": [],
      "source": [
        "x_val = x_train[:10000]\n",
        "partial_x_train = x_train[10000:]\n",
        "y_val = y_train[:10000]\n",
        "partial_y_train = y_train[10000:]"
      ]
    },
    {
      "cell_type": "markdown",
      "metadata": {
        "id": "kTubLiFNQFs-"
      },
      "source": [
        "**Training your model**"
      ]
    },
    {
      "cell_type": "code",
      "execution_count": 12,
      "metadata": {
        "colab": {
          "base_uri": "https://localhost:8080/"
        },
        "id": "ZAnhQiTrQKLx",
        "outputId": "c3cd3321-bcd6-4ed8-a7ba-cf48e6540ef5"
      },
      "outputs": [
        {
          "name": "stdout",
          "output_type": "stream",
          "text": [
            "Epoch 1/20\n",
            "30/30 [==============================] - 3s 60ms/step - loss: 0.4929 - accuracy: 0.7910 - val_loss: 0.3552 - val_accuracy: 0.8764\n",
            "Epoch 2/20\n",
            "30/30 [==============================] - 2s 55ms/step - loss: 0.2875 - accuracy: 0.9031 - val_loss: 0.3195 - val_accuracy: 0.8740\n",
            "Epoch 3/20\n",
            "30/30 [==============================] - 1s 45ms/step - loss: 0.2132 - accuracy: 0.9298 - val_loss: 0.2850 - val_accuracy: 0.8875\n",
            "Epoch 4/20\n",
            "30/30 [==============================] - 1s 44ms/step - loss: 0.1670 - accuracy: 0.9436 - val_loss: 0.3023 - val_accuracy: 0.8787\n",
            "Epoch 5/20\n",
            "30/30 [==============================] - 1s 45ms/step - loss: 0.1375 - accuracy: 0.9537 - val_loss: 0.2823 - val_accuracy: 0.8875\n",
            "Epoch 6/20\n",
            "30/30 [==============================] - 1s 45ms/step - loss: 0.1100 - accuracy: 0.9672 - val_loss: 0.3039 - val_accuracy: 0.8827\n",
            "Epoch 7/20\n",
            "30/30 [==============================] - 1s 44ms/step - loss: 0.0916 - accuracy: 0.9715 - val_loss: 0.3659 - val_accuracy: 0.8691\n",
            "Epoch 8/20\n",
            "30/30 [==============================] - 1s 44ms/step - loss: 0.0774 - accuracy: 0.9770 - val_loss: 0.3474 - val_accuracy: 0.8799\n",
            "Epoch 9/20\n",
            "30/30 [==============================] - 1s 44ms/step - loss: 0.0644 - accuracy: 0.9822 - val_loss: 0.3662 - val_accuracy: 0.8784\n",
            "Epoch 10/20\n",
            "30/30 [==============================] - 1s 44ms/step - loss: 0.0534 - accuracy: 0.9869 - val_loss: 0.4125 - val_accuracy: 0.8754\n",
            "Epoch 11/20\n",
            "30/30 [==============================] - 1s 44ms/step - loss: 0.0429 - accuracy: 0.9903 - val_loss: 0.4358 - val_accuracy: 0.8758\n",
            "Epoch 12/20\n",
            "30/30 [==============================] - 1s 44ms/step - loss: 0.0367 - accuracy: 0.9912 - val_loss: 0.4617 - val_accuracy: 0.8695\n",
            "Epoch 13/20\n",
            "30/30 [==============================] - 1s 44ms/step - loss: 0.0292 - accuracy: 0.9939 - val_loss: 0.5227 - val_accuracy: 0.8610\n",
            "Epoch 14/20\n",
            "30/30 [==============================] - 1s 44ms/step - loss: 0.0259 - accuracy: 0.9942 - val_loss: 0.5159 - val_accuracy: 0.8727\n",
            "Epoch 15/20\n",
            "30/30 [==============================] - 1s 44ms/step - loss: 0.0163 - accuracy: 0.9980 - val_loss: 0.5534 - val_accuracy: 0.8639\n",
            "Epoch 16/20\n",
            "30/30 [==============================] - 1s 45ms/step - loss: 0.0170 - accuracy: 0.9968 - val_loss: 0.5795 - val_accuracy: 0.8661\n",
            "Epoch 17/20\n",
            "30/30 [==============================] - 1s 43ms/step - loss: 0.0145 - accuracy: 0.9969 - val_loss: 0.6118 - val_accuracy: 0.8660\n",
            "Epoch 18/20\n",
            "30/30 [==============================] - 1s 45ms/step - loss: 0.0072 - accuracy: 0.9997 - val_loss: 0.6512 - val_accuracy: 0.8646\n",
            "Epoch 19/20\n",
            "30/30 [==============================] - 1s 44ms/step - loss: 0.0106 - accuracy: 0.9977 - val_loss: 0.6828 - val_accuracy: 0.8640\n",
            "Epoch 20/20\n",
            "30/30 [==============================] - 1s 43ms/step - loss: 0.0096 - accuracy: 0.9978 - val_loss: 0.7138 - val_accuracy: 0.8622\n"
          ]
        }
      ],
      "source": [
        "history = model.fit(partial_x_train,\n",
        "                    partial_y_train,\n",
        "                    epochs=20,\n",
        "                    batch_size=512,\n",
        "                    validation_data=(x_val, y_val))"
      ]
    },
    {
      "cell_type": "code",
      "execution_count": 13,
      "metadata": {
        "colab": {
          "base_uri": "https://localhost:8080/"
        },
        "id": "lMSXP_7iQdiF",
        "outputId": "b94bfe7f-7c1a-44af-ffa2-fa04894883ed"
      },
      "outputs": [
        {
          "name": "stdout",
          "output_type": "stream",
          "text": [
            "dict_keys(['loss', 'accuracy', 'val_loss', 'val_accuracy'])\n"
          ]
        }
      ],
      "source": [
        "history_dict = history.history\n",
        "print(history_dict.keys())"
      ]
    },
    {
      "cell_type": "markdown",
      "metadata": {
        "id": "zBj0hL4sTDDW"
      },
      "source": [
        "**Plotting the training and validation loss**"
      ]
    },
    {
      "cell_type": "code",
      "execution_count": 14,
      "metadata": {
        "colab": {
          "base_uri": "https://localhost:8080/",
          "height": 295
        },
        "id": "T-I1YNs0Rjru",
        "outputId": "79b052c1-0e62-4ccd-b248-64f1ac0bb053"
      },
      "outputs": [
        {
          "data": {
            "image/png": "[encoded data removed]",
            "text/plain": [
              "<Figure size 432x288 with 1 Axes>"
            ]
          },
          "metadata": {
            "needs_background": "light"
          },
          "output_type": "display_data"
        }
      ],
      "source": [
        "import matplotlib.pyplot as plt\n",
        "history_dict = history.history\n",
        "loss_values = history_dict[\"loss\"]\n",
        "val_loss_values = history_dict[\"val_loss\"]\n",
        "epochs = range(1, len(loss_values) + 1)\n",
        "\n",
        "# \"bo\" is for \"blue dot.\"\n",
        "plt.plot(epochs, loss_values, \"bo\", label=\"Training loss\")\n",
        "\n",
        "# \"b\" is for \"solid blue line.\"\n",
        "plt.plot(epochs, val_loss_values, \"b\", label=\"Validation loss\")\n",
        "\n",
        "plt.title(\"Training and validation loss\")\n",
        "plt.xlabel(\"Epochs\")\n",
        "plt.ylabel(\"Loss\")\n",
        "plt.legend()\n",
        "plt.show()"
      ]
    },
    {
      "cell_type": "markdown",
      "metadata": {
        "id": "cmwBqHUVX7R8"
      },
      "source": [
        "**Plotting the training and validation accuracy**"
      ]
    },
    {
      "cell_type": "code",
      "execution_count": 15,
      "metadata": {
        "colab": {
          "base_uri": "https://localhost:8080/",
          "height": 295
        },
        "id": "IYLPhiKzUVW5",
        "outputId": "ff65b05c-40ce-4ff9-86db-df000adf0e2b"
      },
      "outputs": [
        {
          "data": {
            "image/png": "[encoded data removed]",
            "text/plain": [
              "<Figure size 432x288 with 1 Axes>"
            ]
          },
          "metadata": {
            "needs_background": "light"
          },
          "output_type": "display_data"
        }
      ],
      "source": [
        "# Clears the figure\n",
        "plt.clf()\n",
        "acc = history_dict[\"accuracy\"]\n",
        "val_acc = history_dict[\"val_accuracy\"]\n",
        "plt.plot(epochs, acc, \"bo\", label=\"Training acc\")\n",
        "plt.plot(epochs, val_acc, \"b\", label=\"Validation acc\")\n",
        "plt.title(\"Training and validation accuracy\")\n",
        "plt.xlabel(\"Epochs\")\n",
        "plt.ylabel(\"Accuracy\")\n",
        "plt.legend()\n",
        "plt.show()"
      ]
    },
    {
      "cell_type": "markdown",
      "metadata": {
        "id": "BSZhdjvdaRvV"
      },
      "source": [
        "Experienced overfitting! ⚠\n"
      ]
    },
    {
      "cell_type": "markdown",
      "metadata": {
        "id": "crcni6ELaYUC"
      },
      "source": [
        "**Retraining a model from scratch**"
      ]
    },
    {
      "cell_type": "code",
      "execution_count": 16,
      "metadata": {
        "colab": {
          "base_uri": "https://localhost:8080/"
        },
        "id": "4qYxe94jbwug",
        "outputId": "5e161dc3-7711-4355-fdee-cb7812a4eed7"
      },
      "outputs": [
        {
          "name": "stdout",
          "output_type": "stream",
          "text": [
            "Epoch 1/4\n",
            "49/49 [==============================] - 2s 34ms/step - loss: 0.4266 - accuracy: 0.8226\n",
            "Epoch 2/4\n",
            "49/49 [==============================] - 2s 33ms/step - loss: 0.2436 - accuracy: 0.9121\n",
            "Epoch 3/4\n",
            "49/49 [==============================] - 2s 34ms/step - loss: 0.1912 - accuracy: 0.9312\n",
            "Epoch 4/4\n",
            "49/49 [==============================] - 2s 33ms/step - loss: 0.1598 - accuracy: 0.9432\n",
            "782/782 [==============================] - 2s 2ms/step - loss: 0.3081 - accuracy: 0.8783\n"
          ]
        }
      ],
      "source": [
        "model = keras.Sequential([\n",
        "    layers.Dense(16, activation=\"relu\"),\n",
        "    layers.Dense(16, activation=\"relu\"),\n",
        "    layers.Dense(1, activation=\"sigmoid\")\n",
        "])\n",
        "\n",
        "model.compile(optimizer=\"rmsprop\",\n",
        "              loss=\"binary_crossentropy\",\n",
        "              metrics=[\"accuracy\"])\n",
        "\n",
        "model.fit(x_train, y_train, epochs=4, batch_size=512)\n",
        "results = model.evaluate(x_test, y_test)"
      ]
    },
    {
      "cell_type": "code",
      "execution_count": 17,
      "metadata": {
        "colab": {
          "base_uri": "https://localhost:8080/"
        },
        "id": "3ADvaZ8WcrxI",
        "outputId": "39bc7dcf-9e51-4b51-d796-2bfdfe9acb30"
      },
      "outputs": [
        {
          "name": "stdout",
          "output_type": "stream",
          "text": [
            "[0.3080730438232422, 0.8783199787139893]\n",
            "Test loss: 30.81%\n",
            "Test accuracy: 87.83%\n"
          ]
        }
      ],
      "source": [
        "# Print test loss and test accuracy\n",
        "print(results)\n",
        "print(f\"Test loss: {results[0]:.2%}\")\n",
        "print(f\"Test accuracy: {results[1]:.2%}\")"
      ]
    },
    {
      "cell_type": "markdown",
      "metadata": {
        "id": "CRRo1FzCjG_i"
      },
      "source": [
        "This fairly naive approach achieves an accuracy of 87.83%. With state-of-the-art approaches, you should be able to get close to 95%."
      ]
    },
    {
      "cell_type": "markdown",
      "metadata": {
        "id": "2XhYEak6e5WG"
      },
      "source": [
        "### Using a trained model to generate predictions on new data"
      ]
    },
    {
      "cell_type": "code",
      "execution_count": 18,
      "metadata": {
        "colab": {
          "base_uri": "https://localhost:8080/"
        },
        "id": "LEVhw9nWfJlM",
        "outputId": "64830663-20e3-497c-b5d3-590e0d733656"
      },
      "outputs": [
        {
          "data": {
            "text/plain": [
              "array([[0.13259602],\n",
              "       [0.9997753 ],\n",
              "       [0.71365565],\n",
              "       ...,\n",
              "       [0.1076012 ],\n",
              "       [0.04340774],\n",
              "       [0.4986166 ]], dtype=float32)"
            ]
          },
          "execution_count": 18,
          "metadata": {},
          "output_type": "execute_result"
        }
      ],
      "source": [
        "model.predict(x_test)"
      ]
    },
    {
      "cell_type": "markdown",
      "metadata": {
        "id": "0YWPJj8O-YfV"
      },
      "source": [
        "As you can see, the model is confident for some samples (0.99 or more, or 0.01 or less) but less confident for others (0.6, 0.4)."
      ]
    },
    {
      "cell_type": "markdown",
      "metadata": {
        "id": "l7bz7GHki0le"
      },
      "source": [
        "### Further experiments"
      ]
    },
    {
      "cell_type": "markdown",
      "metadata": {
        "id": "s1cxKeixjzR7"
      },
      "source": [
        "- Try using one or three representational layers.\n",
        "- Try using layers with more units or fewer units: 32 units, 64 units, and so on.\n",
        "- Try using the `mse` loss function instead of binary_crossentropy.\n",
        "- Try using the `tanh` activation instead of relu."
      ]
    },
    {
      "cell_type": "markdown",
      "metadata": {
        "id": "O5CTmYOYyduY"
      },
      "source": [
        "### Experiment 1"
      ]
    },
    {
      "cell_type": "code",
      "execution_count": 19,
      "metadata": {
        "colab": {
          "base_uri": "https://localhost:8080/"
        },
        "id": "6Ynvdbszi7ZA",
        "outputId": "92dc1569-4254-4564-8df8-c69e6ae9529a"
      },
      "outputs": [
        {
          "name": "stdout",
          "output_type": "stream",
          "text": [
            "Epoch 1/4\n",
            "49/49 [==============================] - 2s 33ms/step - loss: 0.4595 - accuracy: 0.8281\n",
            "Epoch 2/4\n",
            "49/49 [==============================] - 2s 33ms/step - loss: 0.2842 - accuracy: 0.9060\n",
            "Epoch 3/4\n",
            "49/49 [==============================] - 2s 33ms/step - loss: 0.2242 - accuracy: 0.9256\n",
            "Epoch 4/4\n",
            "49/49 [==============================] - 2s 32ms/step - loss: 0.1912 - accuracy: 0.9347\n",
            "782/782 [==============================] - 2s 2ms/step - loss: 0.2909 - accuracy: 0.8829\n"
          ]
        }
      ],
      "source": [
        "model = keras.Sequential([\n",
        "    layers.Dense(16, activation=\"relu\"),\n",
        "    layers.Dense(1, activation=\"sigmoid\")\n",
        "])\n",
        "\n",
        "model.compile(optimizer=\"rmsprop\",\n",
        "              loss=\"binary_crossentropy\",\n",
        "              metrics=[\"accuracy\"])\n",
        "\n",
        "model.fit(x_train, y_train, epochs=4, batch_size=512)\n",
        "results_1 = model.evaluate(x_test, y_test)"
      ]
    },
    {
      "cell_type": "code",
      "execution_count": 20,
      "metadata": {
        "colab": {
          "base_uri": "https://localhost:8080/"
        },
        "id": "Bz381aqajpM5",
        "outputId": "feae811c-246b-4dea-e27b-58b727bf8667"
      },
      "outputs": [
        {
          "name": "stdout",
          "output_type": "stream",
          "text": [
            "[0.2909233272075653, 0.8828799724578857]\n",
            "Test loss: 29.09%\n",
            "Test accuracy: 88.29%\n"
          ]
        }
      ],
      "source": [
        "# Print test loss and test accuracy\n",
        "print(results_1)\n",
        "print(f\"Test loss: {results_1[0]:.2%}\")\n",
        "print(f\"Test accuracy: {results_1[1]:.2%}\")"
      ]
    },
    {
      "cell_type": "markdown",
      "metadata": {
        "id": "7jOOtBQT3KyP"
      },
      "source": [
        "Using one representation layer reduced the test loss from 30.81% to 29.09% and this improved the accuracy to 88.29%."
      ]
    },
    {
      "cell_type": "code",
      "execution_count": 21,
      "metadata": {
        "colab": {
          "base_uri": "https://localhost:8080/"
        },
        "id": "aaYaO-xw0bRj",
        "outputId": "17ce5856-3a95-4849-abdc-bacfd6cf42e0"
      },
      "outputs": [
        {
          "data": {
            "text/plain": [
              "array([[0.21781912],\n",
              "       [0.9985988 ],\n",
              "       [0.68381244],\n",
              "       ...,\n",
              "       [0.09897813],\n",
              "       [0.07437745],\n",
              "       [0.3933696 ]], dtype=float32)"
            ]
          },
          "execution_count": 21,
          "metadata": {},
          "output_type": "execute_result"
        }
      ],
      "source": [
        "model.predict(x_test)"
      ]
    },
    {
      "cell_type": "markdown",
      "metadata": {
        "id": "V_FFPAxo4CX8"
      },
      "source": [
        "### Experiment 2 and Wrapping up (summaries)"
      ]
    },
    {
      "cell_type": "code",
      "execution_count": 25,
      "metadata": {
        "colab": {
          "base_uri": "https://localhost:8080/"
        },
        "id": "0WEyGI6e4Hds",
        "outputId": "5114b3f7-cb95-43bf-b893-041864cf4372"
      },
      "outputs": [
        {
          "name": "stdout",
          "output_type": "stream",
          "text": [
            "Epoch 1/3\n",
            "49/49 [==============================] - 2s 31ms/step - loss: 0.4631 - accuracy: 0.8276\n",
            "Epoch 2/3\n",
            "49/49 [==============================] - 1s 30ms/step - loss: 0.2902 - accuracy: 0.9041\n",
            "Epoch 3/3\n",
            "49/49 [==============================] - 1s 30ms/step - loss: 0.2284 - accuracy: 0.9217\n",
            "782/782 [==============================] - 2s 2ms/step - loss: 0.2820 - accuracy: 0.8901\n"
          ]
        }
      ],
      "source": [
        "model = keras.Sequential([\n",
        "    # Stacks of Dense layers with relu activations can solve a wide range of\n",
        "    # problems.\n",
        "    layers.Dense(16, activation=\"relu\"),\n",
        "\n",
        "    # In a binary classification problem (two output classes), your model\n",
        "    # should end with a Dense layer with one unit and a sigmoid activation:\n",
        "    # the output of your model should be a scalar between 0 and 1, \n",
        "    # encoding a probability.\n",
        "    layers.Dense(1, activation=\"sigmoid\")\n",
        "])\n",
        "\n",
        "# The rmsprop optimizer is generally a good enough choice, whatever your problem.\n",
        "# That's one less thing for you to worry about.\n",
        "model.compile(optimizer=\"rmsprop\",\n",
        "              # With such a sigmoid output on a binary classification problem,\n",
        "              # the loss function you should use is binary_crossentropy.\n",
        "              loss=\"binary_crossentropy\",\n",
        "              metrics=[\"accuracy\"])\n",
        "\n",
        "model.fit(x_train, y_train, epochs=3, batch_size=512)\n",
        "results_2 = model.evaluate(x_test, y_test)"
      ]
    },
    {
      "cell_type": "code",
      "execution_count": 26,
      "metadata": {
        "colab": {
          "base_uri": "https://localhost:8080/"
        },
        "id": "EdaiawK74lWq",
        "outputId": "6953a517-1842-41cf-e7d4-c2adfb60772e"
      },
      "outputs": [
        {
          "name": "stdout",
          "output_type": "stream",
          "text": [
            "[0.2819797396659851, 0.8901200294494629]\n",
            "Test loss: 28.20%\n",
            "Test accuracy: 89.01%\n"
          ]
        }
      ],
      "source": [
        "# Print test loss and test accuracy\n",
        "print(results_2)\n",
        "print(f\"Test loss: {results_2[0]:.2%}\")\n",
        "print(f\"Test accuracy: {results_2[1]:.2%}\")"
      ]
    },
    {
      "cell_type": "markdown",
      "metadata": {
        "id": "fnpa_6Ts4wDG"
      },
      "source": [
        "Using one representation layer and training on 3 epochs improved the accuracy to 89.01%."
      ]
    },
    {
      "cell_type": "code",
      "execution_count": null,
      "metadata": {
        "id": "wAabEMKP7gtT"
      },
      "outputs": [],
      "source": [
        "\"\"\"\n",
        "As they get better on their training data, neural networks eventually\n",
        "start overfitting and end up obtaining increasingly worse results on \n",
        "data they've never seen before. Be sure to always monitor performance\n",
        "on data that is outside of the training set.\n",
        "\"\"\"\n",
        "model.predict(x_test)"
      ]
    }
  ],
  "metadata": {
    "accelerator": "TPU",
    "colab": {
      "authorship_tag": "ABX9TyPHNkoPuUQD/euP+RUx2pEq",
      "collapsed_sections": [],
      "include_colab_link": true,
      "name": "IMDB_classify-movie-reviews-a-binary-classification",
      "provenance": []
    },
    "gpuClass": "standard",
    "kernelspec": {
      "display_name": "Python 3.10.4 64-bit",
      "language": "python",
      "name": "python3"
    },
    "language_info": {
      "name": "python",
      "version": "3.10.4"
    },
    "vscode": {
      "interpreter": {
        "hash": "4f946df053fbf2b937619d3c5458e7af74262f9a954d8797ba0b27400bcafe06"
      }
    }
  },
  "nbformat": 4,
  "nbformat_minor": 0
}
