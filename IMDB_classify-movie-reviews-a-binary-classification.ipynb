{
  "nbformat": 4,
  "nbformat_minor": 0,
  "metadata": {
    "colab": {
      "name": "IMDB_classify_movie_reviews",
      "provenance": [],
      "collapsed_sections": [],
      "authorship_tag": "ABX9TyM7H8U4H0Svn9SH9R467GDZ",
      "include_colab_link": true
    },
    "kernelspec": {
      "name": "python3",
      "display_name": "Python 3"
    },
    "language_info": {
      "name": "python"
    },
    "accelerator": "TPU",
    "gpuClass": "standard"
  },
  "cells": [
    {
      "cell_type": "markdown",
      "metadata": {
        "id": "view-in-github",
        "colab_type": "text"
      },
      "source": [
        "<a href=\"https://colab.research.google.com/github/ralphcajipe/Deep-Learning-with-Python/blob/main/IMDB_classify-movie-reviews-a-binary-classification.ipynb\" target=\"_parent\"><img src=\"https://colab.research.google.com/assets/colab-badge.svg\" alt=\"Open In Colab\"/></a>"
      ]
    },
    {
      "cell_type": "markdown",
      "source": [
        "# Classifying movie reviews: A binary classfication example\n",
        "Problem: Classify movie reviews as positive or negative, based on the text content of the reviews (sequence of words)."
      ],
      "metadata": {
        "id": "Tx9h0l1ouo4T"
      }
    },
    {
      "cell_type": "markdown",
      "source": [
        "### The IMDB dataset\n",
        "**Loading the IMDB dataset**"
      ],
      "metadata": {
        "id": "N9p2kt55vGgH"
      }
    },
    {
      "cell_type": "code",
      "execution_count": 1,
      "metadata": {
        "id": "MuUDn3lopuVo"
      },
      "outputs": [],
      "source": [
        "from tensorflow.keras.datasets import imdb\n",
        "(train_data, train_labels), (test_data, test_labels) = imdb.load_data(num_words=10000)"
      ]
    },
    {
      "cell_type": "code",
      "source": [
        "print(train_data[0], end='')"
      ],
      "metadata": {
        "colab": {
          "base_uri": "https://localhost:8080/"
        },
        "id": "JJfx3Qyhv5gE",
        "outputId": "3d52fa0b-d7b0-47ab-9e41-214cd8a45321"
      },
      "execution_count": null,
      "outputs": [
        {
          "output_type": "stream",
          "name": "stdout",
          "text": [
            "[1, 14, 22, 16, 43, 530, 973, 1622, 1385, 65, 458, 4468, 66, 3941, 4, 173, 36, 256, 5, 25, 100, 43, 838, 112, 50, 670, 2, 9, 35, 480, 284, 5, 150, 4, 172, 112, 167, 2, 336, 385, 39, 4, 172, 4536, 1111, 17, 546, 38, 13, 447, 4, 192, 50, 16, 6, 147, 2025, 19, 14, 22, 4, 1920, 4613, 469, 4, 22, 71, 87, 12, 16, 43, 530, 38, 76, 15, 13, 1247, 4, 22, 17, 515, 17, 12, 16, 626, 18, 2, 5, 62, 386, 12, 8, 316, 8, 106, 5, 4, 2223, 5244, 16, 480, 66, 3785, 33, 4, 130, 12, 16, 38, 619, 5, 25, 124, 51, 36, 135, 48, 25, 1415, 33, 6, 22, 12, 215, 28, 77, 52, 5, 14, 407, 16, 82, 2, 8, 4, 107, 117, 5952, 15, 256, 4, 2, 7, 3766, 5, 723, 36, 71, 43, 530, 476, 26, 400, 317, 46, 7, 4, 2, 1029, 13, 104, 88, 4, 381, 15, 297, 98, 32, 2071, 56, 26, 141, 6, 194, 7486, 18, 4, 226, 22, 21, 134, 476, 26, 480, 5, 144, 30, 5535, 18, 51, 36, 28, 224, 92, 25, 104, 4, 226, 65, 16, 38, 1334, 88, 12, 16, 283, 5, 16, 4472, 113, 103, 32, 15, 16, 5345, 19, 178, 32]"
          ]
        }
      ]
    },
    {
      "cell_type": "code",
      "source": [
        "train_labels[0]"
      ],
      "metadata": {
        "colab": {
          "base_uri": "https://localhost:8080/"
        },
        "id": "2gjiRNhlwBvI",
        "outputId": "910a1807-fe21-48f4-e5a6-5a4817434b68"
      },
      "execution_count": null,
      "outputs": [
        {
          "output_type": "execute_result",
          "data": {
            "text/plain": [
              "1"
            ]
          },
          "metadata": {},
          "execution_count": 3
        }
      ]
    },
    {
      "cell_type": "code",
      "source": [
        "max([max(sequence) for sequence in train_data])"
      ],
      "metadata": {
        "colab": {
          "base_uri": "https://localhost:8080/"
        },
        "id": "7pUzzDlCxHiO",
        "outputId": "b68112a4-3b38-4aa8-8c58-e8cf8876dab1"
      },
      "execution_count": 2,
      "outputs": [
        {
          "output_type": "execute_result",
          "data": {
            "text/plain": [
              "9999"
            ]
          },
          "metadata": {},
          "execution_count": 2
        }
      ]
    },
    {
      "cell_type": "markdown",
      "source": [
        "**Decoding reviews back to text**"
      ],
      "metadata": {
        "id": "q5IehsGxyYT8"
      }
    },
    {
      "cell_type": "code",
      "source": [
        "# word_index is a dictionary mapping words to an integer index.\n",
        "word_index = imdb.get_word_index()\n",
        "\n",
        "# Reverses it, mapping integer indices to words\n",
        "reverse_word_index = dict(\n",
        "    [(value, key) for (key, value) in word_index.items()]\n",
        ")\n",
        "\n",
        "# Decodes the review. Note that the indices are offset by 3\n",
        "# because 0, 1, and 2 are reserved indices for \"padding,\"\n",
        "# \"start of sequence,\" and \"unknown.\"\n",
        "decoded_review = \" \".join(\n",
        "    [reverse_word_index.get(i - 3, \"?\") for i in train_data[0]]\n",
        ")"
      ],
      "metadata": {
        "id": "WkrjhpImyjET"
      },
      "execution_count": 3,
      "outputs": []
    },
    {
      "cell_type": "markdown",
      "source": [
        "### Preparing the data\n",
        "**Encoding the integer sequences via multi-hot encoding**"
      ],
      "metadata": {
        "id": "Uwdu3edeA_jt"
      }
    },
    {
      "cell_type": "code",
      "source": [
        "import numpy as np\n",
        "def vectorize_sequences(sequences, dimension=10000):\n",
        "    \"\"\"Vectorizing the sequence of words.\"\"\"\n",
        "    \n",
        "    # Creates an all-zero matrix of shape (len(sequences), dimension)\n",
        "    results = np.zeros((len(sequences), dimension))\n",
        "    for i, sequence in enumerate(sequences):\n",
        "        for j in sequence:\n",
        "            # Sets specific indices of results[i] to 1s\n",
        "            results[i, j] = 1\n",
        "    return results\n",
        "\n",
        "# Vectorized training data\n",
        "x_train = vectorize_sequences(train_data)\n",
        "\n",
        "# Vectorized test data\n",
        "x_test = vectorize_sequences(test_data)"
      ],
      "metadata": {
        "id": "NtwpeeSqBe5M"
      },
      "execution_count": 4,
      "outputs": []
    },
    {
      "cell_type": "code",
      "source": [
        "x_train[0]"
      ],
      "metadata": {
        "colab": {
          "base_uri": "https://localhost:8080/"
        },
        "id": "-97amIU8Dwde",
        "outputId": "59a7fb12-2575-41cf-c7ac-4d092facdc4e"
      },
      "execution_count": null,
      "outputs": [
        {
          "output_type": "execute_result",
          "data": {
            "text/plain": [
              "array([0., 1., 1., ..., 0., 0., 0.])"
            ]
          },
          "metadata": {},
          "execution_count": 7
        }
      ]
    },
    {
      "cell_type": "code",
      "source": [
        "# Vectorize your labels too\n",
        "y_train = np.asarray(train_labels).astype(\"float32\")\n",
        "y_test = np.array(test_labels).astype(\"float32\")"
      ],
      "metadata": {
        "id": "cbbEG5JqDx1C"
      },
      "execution_count": 5,
      "outputs": []
    },
    {
      "cell_type": "markdown",
      "source": [
        "### Building your model\n",
        "**Model definition**"
      ],
      "metadata": {
        "id": "zU5ST4sNGLWD"
      }
    },
    {
      "cell_type": "code",
      "source": [
        "from tensorflow import keras\n",
        "from tensorflow.keras import layers\n",
        "\n",
        "# Creating a sequential model with 3 layers\n",
        "model = keras.Sequential([\n",
        "    layers.Dense(16, activation=\"relu\"),\n",
        "    layers.Dense(16, activation=\"relu\"),\n",
        "    layers.Dense(1, activation=\"sigmoid\")\n",
        "])"
      ],
      "metadata": {
        "id": "9dUIRt_eGSVh"
      },
      "execution_count": 6,
      "outputs": []
    },
    {
      "cell_type": "markdown",
      "source": [
        "**Compiling the model**"
      ],
      "metadata": {
        "id": "Z58VKCEzM_vd"
      }
    },
    {
      "cell_type": "code",
      "source": [
        "model.compile(optimizer=\"rmsprop\",\n",
        "              loss=\"binary_crossentropy\",\n",
        "              metrics=[\"accuracy\"])"
      ],
      "metadata": {
        "id": "02qSms0INDJe"
      },
      "execution_count": 7,
      "outputs": []
    },
    {
      "cell_type": "markdown",
      "source": [
        "### Validating your approach\n",
        "**Setting aside a validation set**"
      ],
      "metadata": {
        "id": "QekVcEPlNvP2"
      }
    },
    {
      "cell_type": "code",
      "source": [
        "x_val = x_train[:10000]\n",
        "partial_x_train = x_train[10000:]\n",
        "y_val = y_train[:10000]\n",
        "partial_y_train = y_train[10000:]"
      ],
      "metadata": {
        "id": "PnsW3UzQPpD3"
      },
      "execution_count": 8,
      "outputs": []
    },
    {
      "cell_type": "markdown",
      "source": [
        "**Training your model**"
      ],
      "metadata": {
        "id": "kTubLiFNQFs-"
      }
    },
    {
      "cell_type": "code",
      "source": [
        "history = model.fit(partial_x_train,\n",
        "                    partial_y_train,\n",
        "                    epochs=20,\n",
        "                    batch_size=512,\n",
        "                    validation_data=(x_val, y_val))"
      ],
      "metadata": {
        "colab": {
          "base_uri": "https://localhost:8080/"
        },
        "id": "ZAnhQiTrQKLx",
        "outputId": "0a067045-62d9-4613-ffe8-123979b460c3"
      },
      "execution_count": 9,
      "outputs": [
        {
          "output_type": "stream",
          "name": "stdout",
          "text": [
            "Epoch 1/20\n",
            "30/30 [==============================] - 3s 52ms/step - loss: 0.5223 - accuracy: 0.7761 - val_loss: 0.3872 - val_accuracy: 0.8710\n",
            "Epoch 2/20\n",
            "30/30 [==============================] - 1s 36ms/step - loss: 0.3126 - accuracy: 0.8979 - val_loss: 0.3217 - val_accuracy: 0.8759\n",
            "Epoch 3/20\n",
            "30/30 [==============================] - 1s 36ms/step - loss: 0.2230 - accuracy: 0.9271 - val_loss: 0.2784 - val_accuracy: 0.8918\n",
            "Epoch 4/20\n",
            "30/30 [==============================] - 1s 36ms/step - loss: 0.1760 - accuracy: 0.9421 - val_loss: 0.2746 - val_accuracy: 0.8909\n",
            "Epoch 5/20\n",
            "30/30 [==============================] - 1s 36ms/step - loss: 0.1406 - accuracy: 0.9559 - val_loss: 0.3203 - val_accuracy: 0.8739\n",
            "Epoch 6/20\n",
            "30/30 [==============================] - 1s 36ms/step - loss: 0.1188 - accuracy: 0.9630 - val_loss: 0.2932 - val_accuracy: 0.8861\n",
            "Epoch 7/20\n",
            "30/30 [==============================] - 1s 36ms/step - loss: 0.0964 - accuracy: 0.9717 - val_loss: 0.3101 - val_accuracy: 0.8838\n",
            "Epoch 8/20\n",
            "30/30 [==============================] - 1s 36ms/step - loss: 0.0825 - accuracy: 0.9761 - val_loss: 0.3432 - val_accuracy: 0.8806\n",
            "Epoch 9/20\n",
            "30/30 [==============================] - 1s 36ms/step - loss: 0.0690 - accuracy: 0.9808 - val_loss: 0.3658 - val_accuracy: 0.8753\n",
            "Epoch 10/20\n",
            "30/30 [==============================] - 1s 37ms/step - loss: 0.0559 - accuracy: 0.9861 - val_loss: 0.3829 - val_accuracy: 0.8801\n",
            "Epoch 11/20\n",
            "30/30 [==============================] - 1s 37ms/step - loss: 0.0475 - accuracy: 0.9886 - val_loss: 0.4246 - val_accuracy: 0.8687\n",
            "Epoch 12/20\n",
            "30/30 [==============================] - 1s 40ms/step - loss: 0.0377 - accuracy: 0.9919 - val_loss: 0.4354 - val_accuracy: 0.8759\n",
            "Epoch 13/20\n",
            "30/30 [==============================] - 1s 47ms/step - loss: 0.0314 - accuracy: 0.9930 - val_loss: 0.4652 - val_accuracy: 0.8720\n",
            "Epoch 14/20\n",
            "30/30 [==============================] - 1s 46ms/step - loss: 0.0236 - accuracy: 0.9963 - val_loss: 0.5333 - val_accuracy: 0.8690\n",
            "Epoch 15/20\n",
            "30/30 [==============================] - 1s 36ms/step - loss: 0.0192 - accuracy: 0.9961 - val_loss: 0.5413 - val_accuracy: 0.8714\n",
            "Epoch 16/20\n",
            "30/30 [==============================] - 1s 40ms/step - loss: 0.0149 - accuracy: 0.9983 - val_loss: 0.6195 - val_accuracy: 0.8643\n",
            "Epoch 17/20\n",
            "30/30 [==============================] - 1s 36ms/step - loss: 0.0120 - accuracy: 0.9985 - val_loss: 0.6044 - val_accuracy: 0.8697\n",
            "Epoch 18/20\n",
            "30/30 [==============================] - 1s 36ms/step - loss: 0.0097 - accuracy: 0.9985 - val_loss: 0.6298 - val_accuracy: 0.8674\n",
            "Epoch 19/20\n",
            "30/30 [==============================] - 1s 37ms/step - loss: 0.0053 - accuracy: 0.9998 - val_loss: 0.7155 - val_accuracy: 0.8548\n",
            "Epoch 20/20\n",
            "30/30 [==============================] - 1s 37ms/step - loss: 0.0060 - accuracy: 0.9996 - val_loss: 0.7740 - val_accuracy: 0.8534\n"
          ]
        }
      ]
    },
    {
      "cell_type": "code",
      "source": [
        "history_dict = history.history\n",
        "print(history_dict.keys())"
      ],
      "metadata": {
        "colab": {
          "base_uri": "https://localhost:8080/"
        },
        "id": "lMSXP_7iQdiF",
        "outputId": "65b66109-effd-4bb2-b997-9ce84102c224"
      },
      "execution_count": 10,
      "outputs": [
        {
          "output_type": "stream",
          "name": "stdout",
          "text": [
            "dict_keys(['loss', 'accuracy', 'val_loss', 'val_accuracy'])\n"
          ]
        }
      ]
    },
    {
      "cell_type": "markdown",
      "source": [
        "**Plotting the training and validation loss**"
      ],
      "metadata": {
        "id": "zBj0hL4sTDDW"
      }
    },
    {
      "cell_type": "code",
      "source": [
        "import matplotlib.pyplot as plt\n",
        "history_dict = history.history\n",
        "loss_values = history_dict[\"loss\"]\n",
        "val_loss_values = history_dict[\"val_loss\"]\n",
        "epochs = range(1, len(loss_values) + 1)\n",
        "\n",
        "# \"bo\" is for \"blue dot.\"\n",
        "plt.plot(epochs, loss_values, \"bo\", label=\"Training loss\")\n",
        "\n",
        "# \"b\" is for \"solid blue line.\"\n",
        "plt.plot(epochs, val_loss_values, \"b\", label=\"Validation loss\")\n",
        "\n",
        "plt.title(\"Training and validation loss\")\n",
        "plt.xlabel(\"Epochs\")\n",
        "plt.ylabel(\"Loss\")\n",
        "plt.legend()\n",
        "plt.show()"
      ],
      "metadata": {
        "colab": {
          "base_uri": "https://localhost:8080/",
          "height": 295
        },
        "id": "T-I1YNs0Rjru",
        "outputId": "ec6c2f15-dec7-4ddf-f6cb-c2dc095b96f6"
      },
      "execution_count": 11,
      "outputs": [
        {
          "output_type": "display_data",
          "data": {
            "text/plain": [
              "<Figure size 432x288 with 1 Axes>"
            ],
            "image/png": "[encoded data removed]"
          },
          "metadata": {
            "needs_background": "light"
          }
        }
      ]
    },
    {
      "cell_type": "markdown",
      "source": [
        "**Plotting the training and validation accuracy**"
      ],
      "metadata": {
        "id": "cmwBqHUVX7R8"
      }
    },
    {
      "cell_type": "code",
      "source": [
        "# Clears the figure\n",
        "plt.clf()\n",
        "acc = history_dict[\"accuracy\"]\n",
        "val_acc = history_dict[\"val_accuracy\"]\n",
        "plt.plot(epochs, acc, \"bo\", label=\"Training acc\")\n",
        "plt.plot(epochs, val_acc, \"b\", label=\"Validation acc\")\n",
        "plt.title(\"Training and validation accuracy\")\n",
        "plt.xlabel(\"Epochs\")\n",
        "plt.ylabel(\"Accuracy\")\n",
        "plt.legend()\n",
        "plt.show()"
      ],
      "metadata": {
        "colab": {
          "base_uri": "https://localhost:8080/",
          "height": 295
        },
        "id": "IYLPhiKzUVW5",
        "outputId": "d302c4a2-562d-4d18-982c-455d1ea7157e"
      },
      "execution_count": 12,
      "outputs": [
        {
          "output_type": "display_data",
          "data": {
            "text/plain": [
              "<Figure size 432x288 with 1 Axes>"
            ],
            "image/png": "[encoded data removed]"
          },
          "metadata": {
            "needs_background": "light"
          }
        }
      ]
    },
    {
      "cell_type": "markdown",
      "source": [
        "Experienced overfitting! ⚠\n"
      ],
      "metadata": {
        "id": "BSZhdjvdaRvV"
      }
    },
    {
      "cell_type": "markdown",
      "source": [
        "**Retraining a model from scratch**"
      ],
      "metadata": {
        "id": "crcni6ELaYUC"
      }
    },
    {
      "cell_type": "code",
      "source": [
        "model = keras.Sequential([\n",
        "    layers.Dense(16, activation=\"relu\"),\n",
        "    layers.Dense(16, activation=\"relu\"),\n",
        "    layers.Dense(1, activation=\"sigmoid\")\n",
        "])\n",
        "\n",
        "model.compile(optimizer=\"rmsprop\",\n",
        "              loss=\"binary_crossentropy\",\n",
        "              metrics=[\"accuracy\"])\n",
        "\n",
        "model.fit(x_train, y_train, epochs=4, batch_size=512)\n",
        "results = model.evaluate(x_test, y_test)"
      ],
      "metadata": {
        "colab": {
          "base_uri": "https://localhost:8080/"
        },
        "id": "4qYxe94jbwug",
        "outputId": "817561ea-da6f-4e87-ca35-843e80accb0d"
      },
      "execution_count": 21,
      "outputs": [
        {
          "output_type": "stream",
          "name": "stdout",
          "text": [
            "Epoch 1/4\n",
            "49/49 [==============================] - 2s 29ms/step - loss: 0.4721 - accuracy: 0.8253\n",
            "Epoch 2/4\n",
            "49/49 [==============================] - 1s 28ms/step - loss: 0.2748 - accuracy: 0.9041\n",
            "Epoch 3/4\n",
            "49/49 [==============================] - 1s 28ms/step - loss: 0.2104 - accuracy: 0.9262\n",
            "Epoch 4/4\n",
            "49/49 [==============================] - 1s 28ms/step - loss: 0.1766 - accuracy: 0.9380\n",
            "782/782 [==============================] - 2s 3ms/step - loss: 0.2956 - accuracy: 0.8818\n"
          ]
        }
      ]
    },
    {
      "cell_type": "code",
      "source": [
        "# Print test loss and test accuracy\n",
        "print(results)\n",
        "print(f\"Test loss: {results[0]:.2%}\")\n",
        "print(f\"Test accuracy: {results[1]:.2%}\")"
      ],
      "metadata": {
        "colab": {
          "base_uri": "https://localhost:8080/"
        },
        "id": "3ADvaZ8WcrxI",
        "outputId": "06cfbb5b-9f3a-4ad7-c2dc-0fce2eebe572"
      },
      "execution_count": 22,
      "outputs": [
        {
          "output_type": "stream",
          "name": "stdout",
          "text": [
            "[0.29557690024375916, 0.8817999958992004]\n",
            "Test loss: 29.56%\n",
            "Test accuracy: 88.18%\n"
          ]
        }
      ]
    },
    {
      "cell_type": "markdown",
      "source": [
        "This fairly naive approach achieves an accuracy of 88%. With state-of-the-art approaches, you should be able to get close to 95%."
      ],
      "metadata": {
        "id": "CRRo1FzCjG_i"
      }
    },
    {
      "cell_type": "markdown",
      "source": [
        "### Using a trained model to generate predictions on new data"
      ],
      "metadata": {
        "id": "2XhYEak6e5WG"
      }
    },
    {
      "cell_type": "code",
      "source": [
        "model.predict(x_test)"
      ],
      "metadata": {
        "colab": {
          "base_uri": "https://localhost:8080/"
        },
        "id": "LEVhw9nWfJlM",
        "outputId": "f9c79c2a-e02c-4950-8ad7-b6f1cd3f7deb"
      },
      "execution_count": null,
      "outputs": [
        {
          "output_type": "execute_result",
          "data": {
            "text/plain": [
              "array([[0.16784003],\n",
              "       [0.9996662 ],\n",
              "       [0.7459982 ],\n",
              "       ...,\n",
              "       [0.0937981 ],\n",
              "       [0.0688417 ],\n",
              "       [0.42772937]], dtype=float32)"
            ]
          },
          "metadata": {},
          "execution_count": 18
        }
      ]
    },
    {
      "cell_type": "markdown",
      "source": [
        "### Further experiments"
      ],
      "metadata": {
        "id": "l7bz7GHki0le"
      }
    },
    {
      "cell_type": "markdown",
      "source": [
        "- Try using one or three representational layers.\n",
        "- Try using layers with more units or fewer units: 32 units, 64 units, and so on.\n",
        "- Try using the `mse` loss function instead of binary_crossentropy.\n",
        "- Try using the `tanh` activation instead of relu."
      ],
      "metadata": {
        "id": "s1cxKeixjzR7"
      }
    },
    {
      "cell_type": "markdown",
      "source": [
        "### Experiment 1"
      ],
      "metadata": {
        "id": "O5CTmYOYyduY"
      }
    },
    {
      "cell_type": "code",
      "source": [
        "model = keras.Sequential([\n",
        "    layers.Dense(16, activation=\"relu\"),\n",
        "    layers.Dense(1, activation=\"sigmoid\")\n",
        "])\n",
        "\n",
        "model.compile(optimizer=\"rmsprop\",\n",
        "              loss=\"binary_crossentropy\",\n",
        "              metrics=[\"accuracy\"])\n",
        "\n",
        "model.fit(x_train, y_train, epochs=4, batch_size=512)\n",
        "results = model.evaluate(x_test, y_test)"
      ],
      "metadata": {
        "colab": {
          "base_uri": "https://localhost:8080/"
        },
        "id": "6Ynvdbszi7ZA",
        "outputId": "343ce719-9b9f-4bd8-eb50-7496beab4515"
      },
      "execution_count": 24,
      "outputs": [
        {
          "output_type": "stream",
          "name": "stdout",
          "text": [
            "Epoch 1/4\n",
            "49/49 [==============================] - 2s 30ms/step - loss: 0.4469 - accuracy: 0.8281\n",
            "Epoch 2/4\n",
            "49/49 [==============================] - 1s 30ms/step - loss: 0.2767 - accuracy: 0.9094\n",
            "Epoch 3/4\n",
            "49/49 [==============================] - 1s 30ms/step - loss: 0.2206 - accuracy: 0.9241\n",
            "Epoch 4/4\n",
            "49/49 [==============================] - 1s 29ms/step - loss: 0.1876 - accuracy: 0.9350\n",
            "782/782 [==============================] - 2s 2ms/step - loss: 0.2811 - accuracy: 0.8880\n"
          ]
        }
      ]
    },
    {
      "cell_type": "code",
      "source": [
        "# Print test loss and test accuracy\n",
        "print(results)\n",
        "print(f\"Test loss: {results[0]:.2%}\")\n",
        "print(f\"Test accuracy: {results[1]:.2%}\")"
      ],
      "metadata": {
        "colab": {
          "base_uri": "https://localhost:8080/"
        },
        "id": "Bz381aqajpM5",
        "outputId": "61aec466-3163-4a06-b231-eab0450e0c0e"
      },
      "execution_count": 25,
      "outputs": [
        {
          "output_type": "stream",
          "name": "stdout",
          "text": [
            "[0.28108981251716614, 0.8879600167274475]\n",
            "Test loss: 28.11%\n",
            "Test accuracy: 88.80%\n"
          ]
        }
      ]
    },
    {
      "cell_type": "markdown",
      "source": [
        "Using one representation layer reduced the test loss from 29.56% to 28.11% and this improved the accuracy to 88.80%."
      ],
      "metadata": {
        "id": "7jOOtBQT3KyP"
      }
    },
    {
      "cell_type": "code",
      "source": [
        "model.predict(x_test)"
      ],
      "metadata": {
        "colab": {
          "base_uri": "https://localhost:8080/"
        },
        "id": "aaYaO-xw0bRj",
        "outputId": "656d9b30-c207-4408-ed19-445a95eecc13"
      },
      "execution_count": 26,
      "outputs": [
        {
          "output_type": "execute_result",
          "data": {
            "text/plain": [
              "array([[0.26736757],\n",
              "       [0.99949634],\n",
              "       [0.8749909 ],\n",
              "       ...,\n",
              "       [0.16164413],\n",
              "       [0.1265837 ],\n",
              "       [0.58584374]], dtype=float32)"
            ]
          },
          "metadata": {},
          "execution_count": 26
        }
      ]
    },
    {
      "cell_type": "markdown",
      "source": [
        "### Experiment 2 and Wrapping up (summaries)"
      ],
      "metadata": {
        "id": "V_FFPAxo4CX8"
      }
    },
    {
      "cell_type": "code",
      "source": [
        "model = keras.Sequential([\n",
        "    # Stacks of Dense layers with relu activations can solve a wide range of\n",
        "    # problems.\n",
        "    layers.Dense(16, activation=\"relu\"),\n",
        "\n",
        "    # In a binary classification problem (two output classes), your model\n",
        "    # should end with a Dense layer with one unit and a sigmoid activation:\n",
        "    # the output of your model should be a scalar between 0 and 1, \n",
        "    # encoding a probability.\n",
        "    layers.Dense(1, activation=\"sigmoid\")\n",
        "])\n",
        "\n",
        "# The rmsprop optimizer is generally a good enough choice, whatever your problem.\n",
        "# That's one less thing for you to worry about.\n",
        "model.compile(optimizer=\"rmsprop\",\n",
        "              # With such a sigmoid output on a binary classification problem,\n",
        "              # the loss function you should use is binary_crossentropy.\n",
        "              loss=\"binary_crossentropy\",\n",
        "              metrics=[\"accuracy\"])\n",
        "\n",
        "model.fit(x_train, y_train, epochs=3, batch_size=512)\n",
        "results = model.evaluate(x_test, y_test)"
      ],
      "metadata": {
        "colab": {
          "base_uri": "https://localhost:8080/"
        },
        "id": "0WEyGI6e4Hds",
        "outputId": "27ccdd53-8990-4a4d-dbde-d36ffb23b478"
      },
      "execution_count": 27,
      "outputs": [
        {
          "output_type": "stream",
          "name": "stdout",
          "text": [
            "Epoch 1/3\n",
            "49/49 [==============================] - 2s 30ms/step - loss: 0.4642 - accuracy: 0.8302\n",
            "Epoch 2/3\n",
            "49/49 [==============================] - 1s 30ms/step - loss: 0.2920 - accuracy: 0.9025\n",
            "Epoch 3/3\n",
            "49/49 [==============================] - 1s 29ms/step - loss: 0.2314 - accuracy: 0.9219\n",
            "782/782 [==============================] - 2s 2ms/step - loss: 0.2835 - accuracy: 0.8891\n"
          ]
        }
      ]
    },
    {
      "cell_type": "code",
      "source": [
        "# Print test loss and test accuracy\n",
        "print(results)\n",
        "print(f\"Test loss: {results[0]:.2%}\")\n",
        "print(f\"Test accuracy: {results[1]:.2%}\")"
      ],
      "metadata": {
        "colab": {
          "base_uri": "https://localhost:8080/"
        },
        "id": "EdaiawK74lWq",
        "outputId": "2317bed2-3065-4cd8-f9bc-6d7b2d4c0e7e"
      },
      "execution_count": 28,
      "outputs": [
        {
          "output_type": "stream",
          "name": "stdout",
          "text": [
            "[0.2834809422492981, 0.8891199827194214]\n",
            "Test loss: 28.35%\n",
            "Test accuracy: 88.91%\n"
          ]
        }
      ]
    },
    {
      "cell_type": "markdown",
      "source": [
        "Using one representation layer and training on 3 epochs improved the accuracy to 88.91%."
      ],
      "metadata": {
        "id": "fnpa_6Ts4wDG"
      }
    },
    {
      "cell_type": "code",
      "source": [
        "\"\"\"\n",
        "As they get better on their training data, neural networks eventually\n",
        "start overfitting and end up obtaining increasingly worse results on \n",
        "data they've never seen before. Be sure to always monitor performance\n",
        "on data that is outside of the training set.\n",
        "\"\"\"\n",
        "model.predict(x_test)"
      ],
      "metadata": {
        "colab": {
          "base_uri": "https://localhost:8080/"
        },
        "id": "wAabEMKP7gtT",
        "outputId": "5c3d1659-facb-4c65-efad-e2fbb204929d"
      },
      "execution_count": 20,
      "outputs": [
        {
          "output_type": "execute_result",
          "data": {
            "text/plain": [
              "array([[0.05805153],\n",
              "       [0.9999995 ],\n",
              "       [0.91047204],\n",
              "       ...,\n",
              "       [0.14326373],\n",
              "       [0.01902735],\n",
              "       [0.92388654]], dtype=float32)"
            ]
          },
          "metadata": {},
          "execution_count": 20
        }
      ]
    }
  ]
}